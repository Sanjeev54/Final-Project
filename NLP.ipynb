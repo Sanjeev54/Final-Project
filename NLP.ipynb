{
 "cells": [
  {
   "cell_type": "code",
   "execution_count": 55,
   "metadata": {},
   "outputs": [
    {
     "name": "stderr",
     "output_type": "stream",
     "text": [
      "[nltk_data] Downloading package punkt to\n",
      "[nltk_data]     C:\\Users\\harip\\AppData\\Roaming\\nltk_data...\n",
      "[nltk_data]   Package punkt is already up-to-date!\n"
     ]
    },
    {
     "data": {
      "text/plain": [
       "True"
      ]
     },
     "execution_count": 55,
     "metadata": {},
     "output_type": "execute_result"
    }
   ],
   "source": [
    "import pandas as pd\n",
    "import seaborn as sns\n",
    "import matplotlib.pyplot as plt\n",
    "import nltk \n",
    "nltk.download('punkt')"
   ]
  },
  {
   "cell_type": "code",
   "execution_count": 56,
   "metadata": {},
   "outputs": [],
   "source": [
    "dd = pd.read_csv(r\"C:\\Users\\harip\\OneDrive\\Documents\\Final_proj\\flipkart_review_data_2022_02.csv\")"
   ]
  },
  {
   "cell_type": "code",
   "execution_count": 57,
   "metadata": {},
   "outputs": [
    {
     "data": {
      "text/html": [
       "<div>\n",
       "<style scoped>\n",
       "    .dataframe tbody tr th:only-of-type {\n",
       "        vertical-align: middle;\n",
       "    }\n",
       "\n",
       "    .dataframe tbody tr th {\n",
       "        vertical-align: top;\n",
       "    }\n",
       "\n",
       "    .dataframe thead th {\n",
       "        text-align: right;\n",
       "    }\n",
       "</style>\n",
       "<table border=\"1\" class=\"dataframe\">\n",
       "  <thead>\n",
       "    <tr style=\"text-align: right;\">\n",
       "      <th></th>\n",
       "      <th>Unnamed: 0</th>\n",
       "      <th>ProductUrl</th>\n",
       "      <th>productTitle</th>\n",
       "      <th>productPrice</th>\n",
       "      <th>averageRating</th>\n",
       "      <th>reviewTitle</th>\n",
       "      <th>reviewDescription</th>\n",
       "      <th>reviewAuthor</th>\n",
       "      <th>reviewAt</th>\n",
       "      <th>reviewLikes</th>\n",
       "      <th>reviewDislikes</th>\n",
       "      <th>certifiedBuyer</th>\n",
       "      <th>reviewerLocation</th>\n",
       "      <th>scrapedAt</th>\n",
       "      <th>uniqId</th>\n",
       "    </tr>\n",
       "  </thead>\n",
       "  <tbody>\n",
       "    <tr>\n",
       "      <th>0</th>\n",
       "      <td>0</td>\n",
       "      <td>https://www.flipkart.com/lg-108-cm-43-inch-ult...</td>\n",
       "      <td>LG 108 cm (43 inch) Ultra HD (4K) LED Smart TV</td>\n",
       "      <td>₹36,499</td>\n",
       "      <td>4.4</td>\n",
       "      <td>Excellent</td>\n",
       "      <td>Very good product</td>\n",
       "      <td>palakollu  komali</td>\n",
       "      <td>6 months ago</td>\n",
       "      <td>0</td>\n",
       "      <td>1</td>\n",
       "      <td>True</td>\n",
       "      <td>Tenali</td>\n",
       "      <td>20/02/2022 02:03:42</td>\n",
       "      <td>4e9df8d3-736c-5dae-b867-b92b7f09fc84</td>\n",
       "    </tr>\n",
       "    <tr>\n",
       "      <th>1</th>\n",
       "      <td>1</td>\n",
       "      <td>https://www.flipkart.com/lg-108-cm-43-inch-ult...</td>\n",
       "      <td>LG 108 cm (43 inch) Ultra HD (4K) LED Smart TV</td>\n",
       "      <td>₹36,499</td>\n",
       "      <td>4.4</td>\n",
       "      <td>Really Nice</td>\n",
       "      <td>Nice and super picture quality.and sound also ...</td>\n",
       "      <td>Yogesh  Virkar</td>\n",
       "      <td>3 months ago</td>\n",
       "      <td>0</td>\n",
       "      <td>0</td>\n",
       "      <td>True</td>\n",
       "      <td>Mumbai</td>\n",
       "      <td>20/02/2022 02:03:42</td>\n",
       "      <td>7ba04258-9f05-5642-ba33-8982db1f6c5e</td>\n",
       "    </tr>\n",
       "    <tr>\n",
       "      <th>2</th>\n",
       "      <td>2</td>\n",
       "      <td>https://www.flipkart.com/lg-108-cm-43-inch-ult...</td>\n",
       "      <td>LG 108 cm (43 inch) Ultra HD (4K) LED Smart TV</td>\n",
       "      <td>₹36,499</td>\n",
       "      <td>4.4</td>\n",
       "      <td>Super!</td>\n",
       "      <td>This is excellent picture qualityUltimate soun...</td>\n",
       "      <td>Sudhir Kumar Chaudhary</td>\n",
       "      <td>3 months ago</td>\n",
       "      <td>0</td>\n",
       "      <td>0</td>\n",
       "      <td>True</td>\n",
       "      <td>Haridwar</td>\n",
       "      <td>20/02/2022 02:03:42</td>\n",
       "      <td>bfb20e97-eacf-5b76-a5eb-91999d6bd7a3</td>\n",
       "    </tr>\n",
       "    <tr>\n",
       "      <th>3</th>\n",
       "      <td>3</td>\n",
       "      <td>https://www.flipkart.com/lg-108-cm-43-inch-ult...</td>\n",
       "      <td>LG 108 cm (43 inch) Ultra HD (4K) LED Smart TV</td>\n",
       "      <td>₹36,499</td>\n",
       "      <td>4.4</td>\n",
       "      <td>Just wow!</td>\n",
       "      <td>Nice</td>\n",
       "      <td>Flipkart Customer</td>\n",
       "      <td>3 months ago</td>\n",
       "      <td>0</td>\n",
       "      <td>0</td>\n",
       "      <td>True</td>\n",
       "      <td>Allahabad</td>\n",
       "      <td>20/02/2022 02:03:42</td>\n",
       "      <td>b659523f-96e2-50da-a1c0-13a65f410b6a</td>\n",
       "    </tr>\n",
       "    <tr>\n",
       "      <th>4</th>\n",
       "      <td>5</td>\n",
       "      <td>https://www.flipkart.com/lg-108-cm-43-inch-ult...</td>\n",
       "      <td>LG 108 cm (43 inch) Ultra HD (4K) LED Smart TV</td>\n",
       "      <td>₹36,499</td>\n",
       "      <td>4.4</td>\n",
       "      <td>Highly recommended</td>\n",
       "      <td>Don't go with the negative reviews. Just go fo...</td>\n",
       "      <td>Ashok Mandial</td>\n",
       "      <td>3 months ago</td>\n",
       "      <td>0</td>\n",
       "      <td>0</td>\n",
       "      <td>True</td>\n",
       "      <td>Hamirpur District</td>\n",
       "      <td>20/02/2022 02:03:42</td>\n",
       "      <td>4876ae1b-4c7a-52a0-b5e0-dcf88efd1289</td>\n",
       "    </tr>\n",
       "  </tbody>\n",
       "</table>\n",
       "</div>"
      ],
      "text/plain": [
       "   Unnamed: 0                                         ProductUrl  \\\n",
       "0           0  https://www.flipkart.com/lg-108-cm-43-inch-ult...   \n",
       "1           1  https://www.flipkart.com/lg-108-cm-43-inch-ult...   \n",
       "2           2  https://www.flipkart.com/lg-108-cm-43-inch-ult...   \n",
       "3           3  https://www.flipkart.com/lg-108-cm-43-inch-ult...   \n",
       "4           5  https://www.flipkart.com/lg-108-cm-43-inch-ult...   \n",
       "\n",
       "                                     productTitle productPrice  averageRating  \\\n",
       "0  LG 108 cm (43 inch) Ultra HD (4K) LED Smart TV      ₹36,499            4.4   \n",
       "1  LG 108 cm (43 inch) Ultra HD (4K) LED Smart TV      ₹36,499            4.4   \n",
       "2  LG 108 cm (43 inch) Ultra HD (4K) LED Smart TV      ₹36,499            4.4   \n",
       "3  LG 108 cm (43 inch) Ultra HD (4K) LED Smart TV      ₹36,499            4.4   \n",
       "4  LG 108 cm (43 inch) Ultra HD (4K) LED Smart TV      ₹36,499            4.4   \n",
       "\n",
       "          reviewTitle                                  reviewDescription  \\\n",
       "0           Excellent                                  Very good product   \n",
       "1         Really Nice  Nice and super picture quality.and sound also ...   \n",
       "2              Super!  This is excellent picture qualityUltimate soun...   \n",
       "3           Just wow!                                               Nice   \n",
       "4  Highly recommended  Don't go with the negative reviews. Just go fo...   \n",
       "\n",
       "             reviewAuthor      reviewAt  reviewLikes  reviewDislikes  \\\n",
       "0       palakollu  komali  6 months ago            0               1   \n",
       "1          Yogesh  Virkar  3 months ago            0               0   \n",
       "2  Sudhir Kumar Chaudhary  3 months ago            0               0   \n",
       "3       Flipkart Customer  3 months ago            0               0   \n",
       "4           Ashok Mandial  3 months ago            0               0   \n",
       "\n",
       "   certifiedBuyer    reviewerLocation            scrapedAt  \\\n",
       "0            True              Tenali  20/02/2022 02:03:42   \n",
       "1            True              Mumbai  20/02/2022 02:03:42   \n",
       "2            True            Haridwar  20/02/2022 02:03:42   \n",
       "3            True           Allahabad  20/02/2022 02:03:42   \n",
       "4            True   Hamirpur District  20/02/2022 02:03:42   \n",
       "\n",
       "                                 uniqId  \n",
       "0  4e9df8d3-736c-5dae-b867-b92b7f09fc84  \n",
       "1  7ba04258-9f05-5642-ba33-8982db1f6c5e  \n",
       "2  bfb20e97-eacf-5b76-a5eb-91999d6bd7a3  \n",
       "3  b659523f-96e2-50da-a1c0-13a65f410b6a  \n",
       "4  4876ae1b-4c7a-52a0-b5e0-dcf88efd1289  "
      ]
     },
     "execution_count": 57,
     "metadata": {},
     "output_type": "execute_result"
    }
   ],
   "source": [
    "dd.head()"
   ]
  },
  {
   "cell_type": "code",
   "execution_count": 58,
   "metadata": {},
   "outputs": [
    {
     "data": {
      "text/html": [
       "<div>\n",
       "<style scoped>\n",
       "    .dataframe tbody tr th:only-of-type {\n",
       "        vertical-align: middle;\n",
       "    }\n",
       "\n",
       "    .dataframe tbody tr th {\n",
       "        vertical-align: top;\n",
       "    }\n",
       "\n",
       "    .dataframe thead th {\n",
       "        text-align: right;\n",
       "    }\n",
       "</style>\n",
       "<table border=\"1\" class=\"dataframe\">\n",
       "  <thead>\n",
       "    <tr style=\"text-align: right;\">\n",
       "      <th></th>\n",
       "      <th>Unnamed: 0</th>\n",
       "      <th>ProductUrl</th>\n",
       "      <th>productTitle</th>\n",
       "      <th>productPrice</th>\n",
       "      <th>averageRating</th>\n",
       "      <th>reviewTitle</th>\n",
       "      <th>reviewDescription</th>\n",
       "      <th>reviewAuthor</th>\n",
       "      <th>reviewAt</th>\n",
       "      <th>reviewLikes</th>\n",
       "      <th>reviewDislikes</th>\n",
       "      <th>certifiedBuyer</th>\n",
       "      <th>reviewerLocation</th>\n",
       "      <th>scrapedAt</th>\n",
       "      <th>uniqId</th>\n",
       "    </tr>\n",
       "  </thead>\n",
       "  <tbody>\n",
       "    <tr>\n",
       "      <th>338</th>\n",
       "      <td>438</td>\n",
       "      <td>https://www.flipkart.com/lg-108-cm-43-inch-ult...</td>\n",
       "      <td>LG 108 cm (43 inch) Ultra HD (4K) LED Smart TV</td>\n",
       "      <td>₹36,499</td>\n",
       "      <td>4.4</td>\n",
       "      <td>Nice product</td>\n",
       "      <td>Over all good ✌️🤩</td>\n",
       "      <td>Hari Krishnan</td>\n",
       "      <td>20 days ago</td>\n",
       "      <td>0</td>\n",
       "      <td>0</td>\n",
       "      <td>True</td>\n",
       "      <td>Kottayam District</td>\n",
       "      <td>20/02/2022 02:03:56</td>\n",
       "      <td>0d4001c2-e4ee-5b40-a390-f915b1f144f9</td>\n",
       "    </tr>\n",
       "    <tr>\n",
       "      <th>339</th>\n",
       "      <td>439</td>\n",
       "      <td>https://www.flipkart.com/lg-108-cm-43-inch-ult...</td>\n",
       "      <td>LG 108 cm (43 inch) Ultra HD (4K) LED Smart TV</td>\n",
       "      <td>₹36,499</td>\n",
       "      <td>4.4</td>\n",
       "      <td>Very Good</td>\n",
       "      <td>For watching OTT content the best tv compared ...</td>\n",
       "      <td>Johns Abraham</td>\n",
       "      <td>1 month ago</td>\n",
       "      <td>1</td>\n",
       "      <td>0</td>\n",
       "      <td>True</td>\n",
       "      <td>Kozhikode District</td>\n",
       "      <td>20/02/2022 02:03:56</td>\n",
       "      <td>ceeb6d10-2afc-5d45-ae5f-ffb5bf4ca0b0</td>\n",
       "    </tr>\n",
       "    <tr>\n",
       "      <th>340</th>\n",
       "      <td>440</td>\n",
       "      <td>https://www.flipkart.com/lg-108-cm-43-inch-ult...</td>\n",
       "      <td>LG 108 cm (43 inch) Ultra HD (4K) LED Smart TV</td>\n",
       "      <td>₹36,499</td>\n",
       "      <td>4.4</td>\n",
       "      <td>Best in the market!</td>\n",
       "      <td>wow</td>\n",
       "      <td>Shubam Sharma</td>\n",
       "      <td>2 months ago</td>\n",
       "      <td>1</td>\n",
       "      <td>0</td>\n",
       "      <td>True</td>\n",
       "      <td>Jammu</td>\n",
       "      <td>20/02/2022 02:03:56</td>\n",
       "      <td>12c7d8e3-c655-5cfc-a8fa-36a97d75ce5c</td>\n",
       "    </tr>\n",
       "    <tr>\n",
       "      <th>341</th>\n",
       "      <td>441</td>\n",
       "      <td>https://www.flipkart.com/lg-108-cm-43-inch-ult...</td>\n",
       "      <td>LG 108 cm (43 inch) Ultra HD (4K) LED Smart TV</td>\n",
       "      <td>₹36,499</td>\n",
       "      <td>4.4</td>\n",
       "      <td>Great product</td>\n",
       "      <td>I got IPS panel in 50 inch everyone in reviews...</td>\n",
       "      <td>Ankit Yadav</td>\n",
       "      <td>2 months ago</td>\n",
       "      <td>1</td>\n",
       "      <td>0</td>\n",
       "      <td>True</td>\n",
       "      <td>Jabalpur</td>\n",
       "      <td>20/02/2022 02:03:56</td>\n",
       "      <td>3039b642-b8d6-590b-8487-7c72ddb0915f</td>\n",
       "    </tr>\n",
       "    <tr>\n",
       "      <th>342</th>\n",
       "      <td>451</td>\n",
       "      <td>https://www.flipkart.com/lg-108-cm-43-inch-ult...</td>\n",
       "      <td>LG 108 cm (43 inch) Ultra HD (4K) LED Smart TV</td>\n",
       "      <td>₹36,499</td>\n",
       "      <td>4.4</td>\n",
       "      <td>Value-for-money</td>\n",
       "      <td>Very good</td>\n",
       "      <td>Pradeep Meher</td>\n",
       "      <td>3 months ago</td>\n",
       "      <td>0</td>\n",
       "      <td>0</td>\n",
       "      <td>True</td>\n",
       "      <td>Balangir District</td>\n",
       "      <td>20/02/2022 02:04:04</td>\n",
       "      <td>c591da88-665c-585f-929b-59ebb07b5073</td>\n",
       "    </tr>\n",
       "  </tbody>\n",
       "</table>\n",
       "</div>"
      ],
      "text/plain": [
       "     Unnamed: 0                                         ProductUrl  \\\n",
       "338         438  https://www.flipkart.com/lg-108-cm-43-inch-ult...   \n",
       "339         439  https://www.flipkart.com/lg-108-cm-43-inch-ult...   \n",
       "340         440  https://www.flipkart.com/lg-108-cm-43-inch-ult...   \n",
       "341         441  https://www.flipkart.com/lg-108-cm-43-inch-ult...   \n",
       "342         451  https://www.flipkart.com/lg-108-cm-43-inch-ult...   \n",
       "\n",
       "                                       productTitle productPrice  \\\n",
       "338  LG 108 cm (43 inch) Ultra HD (4K) LED Smart TV      ₹36,499   \n",
       "339  LG 108 cm (43 inch) Ultra HD (4K) LED Smart TV      ₹36,499   \n",
       "340  LG 108 cm (43 inch) Ultra HD (4K) LED Smart TV      ₹36,499   \n",
       "341  LG 108 cm (43 inch) Ultra HD (4K) LED Smart TV      ₹36,499   \n",
       "342  LG 108 cm (43 inch) Ultra HD (4K) LED Smart TV      ₹36,499   \n",
       "\n",
       "     averageRating          reviewTitle  \\\n",
       "338            4.4         Nice product   \n",
       "339            4.4            Very Good   \n",
       "340            4.4  Best in the market!   \n",
       "341            4.4        Great product   \n",
       "342            4.4      Value-for-money   \n",
       "\n",
       "                                     reviewDescription   reviewAuthor  \\\n",
       "338                                  Over all good ✌️🤩  Hari Krishnan   \n",
       "339  For watching OTT content the best tv compared ...  Johns Abraham   \n",
       "340                                                wow  Shubam Sharma   \n",
       "341  I got IPS panel in 50 inch everyone in reviews...    Ankit Yadav   \n",
       "342                                          Very good  Pradeep Meher   \n",
       "\n",
       "         reviewAt  reviewLikes  reviewDislikes  certifiedBuyer  \\\n",
       "338   20 days ago            0               0            True   \n",
       "339   1 month ago            1               0            True   \n",
       "340  2 months ago            1               0            True   \n",
       "341  2 months ago            1               0            True   \n",
       "342  3 months ago            0               0            True   \n",
       "\n",
       "        reviewerLocation            scrapedAt  \\\n",
       "338    Kottayam District  20/02/2022 02:03:56   \n",
       "339   Kozhikode District  20/02/2022 02:03:56   \n",
       "340                Jammu  20/02/2022 02:03:56   \n",
       "341             Jabalpur  20/02/2022 02:03:56   \n",
       "342    Balangir District  20/02/2022 02:04:04   \n",
       "\n",
       "                                   uniqId  \n",
       "338  0d4001c2-e4ee-5b40-a390-f915b1f144f9  \n",
       "339  ceeb6d10-2afc-5d45-ae5f-ffb5bf4ca0b0  \n",
       "340  12c7d8e3-c655-5cfc-a8fa-36a97d75ce5c  \n",
       "341  3039b642-b8d6-590b-8487-7c72ddb0915f  \n",
       "342  c591da88-665c-585f-929b-59ebb07b5073  "
      ]
     },
     "execution_count": 58,
     "metadata": {},
     "output_type": "execute_result"
    }
   ],
   "source": [
    "dd.tail()"
   ]
  },
  {
   "cell_type": "code",
   "execution_count": 59,
   "metadata": {},
   "outputs": [
    {
     "name": "stdout",
     "output_type": "stream",
     "text": [
      "<class 'pandas.core.frame.DataFrame'>\n",
      "RangeIndex: 343 entries, 0 to 342\n",
      "Data columns (total 15 columns):\n",
      " #   Column             Non-Null Count  Dtype  \n",
      "---  ------             --------------  -----  \n",
      " 0   Unnamed: 0         343 non-null    int64  \n",
      " 1   ProductUrl         343 non-null    object \n",
      " 2   productTitle       343 non-null    object \n",
      " 3   productPrice       343 non-null    object \n",
      " 4   averageRating      343 non-null    float64\n",
      " 5   reviewTitle        343 non-null    object \n",
      " 6   reviewDescription  343 non-null    object \n",
      " 7   reviewAuthor       343 non-null    object \n",
      " 8   reviewAt           343 non-null    object \n",
      " 9   reviewLikes        343 non-null    int64  \n",
      " 10  reviewDislikes     343 non-null    int64  \n",
      " 11  certifiedBuyer     343 non-null    bool   \n",
      " 12  reviewerLocation   343 non-null    object \n",
      " 13  scrapedAt          343 non-null    object \n",
      " 14  uniqId             343 non-null    object \n",
      "dtypes: bool(1), float64(1), int64(3), object(10)\n",
      "memory usage: 38.0+ KB\n"
     ]
    }
   ],
   "source": [
    "dd.info()"
   ]
  },
  {
   "cell_type": "code",
   "execution_count": 60,
   "metadata": {},
   "outputs": [
    {
     "data": {
      "text/plain": [
       "Unnamed: 0           0\n",
       "ProductUrl           0\n",
       "productTitle         0\n",
       "productPrice         0\n",
       "averageRating        0\n",
       "reviewTitle          0\n",
       "reviewDescription    0\n",
       "reviewAuthor         0\n",
       "reviewAt             0\n",
       "reviewLikes          0\n",
       "reviewDislikes       0\n",
       "certifiedBuyer       0\n",
       "reviewerLocation     0\n",
       "scrapedAt            0\n",
       "uniqId               0\n",
       "dtype: int64"
      ]
     },
     "execution_count": 60,
     "metadata": {},
     "output_type": "execute_result"
    }
   ],
   "source": [
    "dd.isnull().sum()"
   ]
  },
  {
   "cell_type": "code",
   "execution_count": 61,
   "metadata": {},
   "outputs": [
    {
     "data": {
      "text/html": [
       "<div>\n",
       "<style scoped>\n",
       "    .dataframe tbody tr th:only-of-type {\n",
       "        vertical-align: middle;\n",
       "    }\n",
       "\n",
       "    .dataframe tbody tr th {\n",
       "        vertical-align: top;\n",
       "    }\n",
       "\n",
       "    .dataframe thead th {\n",
       "        text-align: right;\n",
       "    }\n",
       "</style>\n",
       "<table border=\"1\" class=\"dataframe\">\n",
       "  <thead>\n",
       "    <tr style=\"text-align: right;\">\n",
       "      <th></th>\n",
       "      <th>Unnamed: 0</th>\n",
       "      <th>averageRating</th>\n",
       "      <th>reviewLikes</th>\n",
       "      <th>reviewDislikes</th>\n",
       "    </tr>\n",
       "  </thead>\n",
       "  <tbody>\n",
       "    <tr>\n",
       "      <th>count</th>\n",
       "      <td>343.000000</td>\n",
       "      <td>3.430000e+02</td>\n",
       "      <td>343.000000</td>\n",
       "      <td>343.000000</td>\n",
       "    </tr>\n",
       "    <tr>\n",
       "      <th>mean</th>\n",
       "      <td>208.314869</td>\n",
       "      <td>4.400000e+00</td>\n",
       "      <td>4.309038</td>\n",
       "      <td>1.755102</td>\n",
       "    </tr>\n",
       "    <tr>\n",
       "      <th>std</th>\n",
       "      <td>127.713632</td>\n",
       "      <td>1.778952e-15</td>\n",
       "      <td>15.885670</td>\n",
       "      <td>6.466610</td>\n",
       "    </tr>\n",
       "    <tr>\n",
       "      <th>min</th>\n",
       "      <td>0.000000</td>\n",
       "      <td>4.400000e+00</td>\n",
       "      <td>0.000000</td>\n",
       "      <td>0.000000</td>\n",
       "    </tr>\n",
       "    <tr>\n",
       "      <th>25%</th>\n",
       "      <td>98.500000</td>\n",
       "      <td>4.400000e+00</td>\n",
       "      <td>0.000000</td>\n",
       "      <td>0.000000</td>\n",
       "    </tr>\n",
       "    <tr>\n",
       "      <th>50%</th>\n",
       "      <td>200.000000</td>\n",
       "      <td>4.400000e+00</td>\n",
       "      <td>0.000000</td>\n",
       "      <td>0.000000</td>\n",
       "    </tr>\n",
       "    <tr>\n",
       "      <th>75%</th>\n",
       "      <td>310.500000</td>\n",
       "      <td>4.400000e+00</td>\n",
       "      <td>3.000000</td>\n",
       "      <td>1.000000</td>\n",
       "    </tr>\n",
       "    <tr>\n",
       "      <th>max</th>\n",
       "      <td>451.000000</td>\n",
       "      <td>4.400000e+00</td>\n",
       "      <td>235.000000</td>\n",
       "      <td>64.000000</td>\n",
       "    </tr>\n",
       "  </tbody>\n",
       "</table>\n",
       "</div>"
      ],
      "text/plain": [
       "       Unnamed: 0  averageRating  reviewLikes  reviewDislikes\n",
       "count  343.000000   3.430000e+02   343.000000      343.000000\n",
       "mean   208.314869   4.400000e+00     4.309038        1.755102\n",
       "std    127.713632   1.778952e-15    15.885670        6.466610\n",
       "min      0.000000   4.400000e+00     0.000000        0.000000\n",
       "25%     98.500000   4.400000e+00     0.000000        0.000000\n",
       "50%    200.000000   4.400000e+00     0.000000        0.000000\n",
       "75%    310.500000   4.400000e+00     3.000000        1.000000\n",
       "max    451.000000   4.400000e+00   235.000000       64.000000"
      ]
     },
     "execution_count": 61,
     "metadata": {},
     "output_type": "execute_result"
    }
   ],
   "source": [
    "dd.describe()"
   ]
  },
  {
   "cell_type": "code",
   "execution_count": 62,
   "metadata": {},
   "outputs": [
    {
     "data": {
      "text/plain": [
       "(343, 15)"
      ]
     },
     "execution_count": 62,
     "metadata": {},
     "output_type": "execute_result"
    }
   ],
   "source": [
    "dd.shape"
   ]
  },
  {
   "cell_type": "code",
   "execution_count": 63,
   "metadata": {},
   "outputs": [
    {
     "data": {
      "text/plain": [
       "Index(['Unnamed: 0', 'ProductUrl', 'productTitle', 'productPrice',\n",
       "       'averageRating', 'reviewTitle', 'reviewDescription', 'reviewAuthor',\n",
       "       'reviewAt', 'reviewLikes', 'reviewDislikes', 'certifiedBuyer',\n",
       "       'reviewerLocation', 'scrapedAt', 'uniqId'],\n",
       "      dtype='object')"
      ]
     },
     "execution_count": 63,
     "metadata": {},
     "output_type": "execute_result"
    }
   ],
   "source": [
    "dd.columns"
   ]
  },
  {
   "cell_type": "code",
   "execution_count": 64,
   "metadata": {},
   "outputs": [],
   "source": [
    "# Text pre processing\n",
    "txt = dd[[\"reviewDescription\"]]\n"
   ]
  },
  {
   "cell_type": "code",
   "execution_count": 65,
   "metadata": {},
   "outputs": [
    {
     "data": {
      "text/html": [
       "<div>\n",
       "<style scoped>\n",
       "    .dataframe tbody tr th:only-of-type {\n",
       "        vertical-align: middle;\n",
       "    }\n",
       "\n",
       "    .dataframe tbody tr th {\n",
       "        vertical-align: top;\n",
       "    }\n",
       "\n",
       "    .dataframe thead th {\n",
       "        text-align: right;\n",
       "    }\n",
       "</style>\n",
       "<table border=\"1\" class=\"dataframe\">\n",
       "  <thead>\n",
       "    <tr style=\"text-align: right;\">\n",
       "      <th></th>\n",
       "      <th>reviewDescription</th>\n",
       "    </tr>\n",
       "  </thead>\n",
       "  <tbody>\n",
       "    <tr>\n",
       "      <th>0</th>\n",
       "      <td>Very good product</td>\n",
       "    </tr>\n",
       "    <tr>\n",
       "      <th>1</th>\n",
       "      <td>Nice and super picture quality.and sound also ...</td>\n",
       "    </tr>\n",
       "    <tr>\n",
       "      <th>2</th>\n",
       "      <td>This is excellent picture qualityUltimate soun...</td>\n",
       "    </tr>\n",
       "    <tr>\n",
       "      <th>3</th>\n",
       "      <td>Nice</td>\n",
       "    </tr>\n",
       "    <tr>\n",
       "      <th>4</th>\n",
       "      <td>Don't go with the negative reviews. Just go fo...</td>\n",
       "    </tr>\n",
       "  </tbody>\n",
       "</table>\n",
       "</div>"
      ],
      "text/plain": [
       "                                   reviewDescription\n",
       "0                                  Very good product\n",
       "1  Nice and super picture quality.and sound also ...\n",
       "2  This is excellent picture qualityUltimate soun...\n",
       "3                                               Nice\n",
       "4  Don't go with the negative reviews. Just go fo..."
      ]
     },
     "execution_count": 65,
     "metadata": {},
     "output_type": "execute_result"
    }
   ],
   "source": [
    "txt.head()"
   ]
  },
  {
   "cell_type": "markdown",
   "metadata": {},
   "source": [
    "# Lower\n",
    "# word_tokenize\n",
    "# Remove punctuation\n",
    "# stop word\n",
    "# Most frequent word\n",
    "# Lemmatized\n",
    "# Stemming"
   ]
  },
  {
   "cell_type": "code",
   "execution_count": 66,
   "metadata": {},
   "outputs": [
    {
     "name": "stderr",
     "output_type": "stream",
     "text": [
      "C:\\Users\\harip\\AppData\\Local\\Temp\\ipykernel_14232\\3555891709.py:2: SettingWithCopyWarning: \n",
      "A value is trying to be set on a copy of a slice from a DataFrame.\n",
      "Try using .loc[row_indexer,col_indexer] = value instead\n",
      "\n",
      "See the caveats in the documentation: https://pandas.pydata.org/pandas-docs/stable/user_guide/indexing.html#returning-a-view-versus-a-copy\n",
      "  txt[\"lower_txt\"] = txt[\"reviewDescription\"].apply(lambda x:x.lower())\n"
     ]
    }
   ],
   "source": [
    "# Lower case conversion\n",
    "txt[\"lower_txt\"] = txt[\"reviewDescription\"].apply(lambda x:x.lower())"
   ]
  },
  {
   "cell_type": "code",
   "execution_count": 67,
   "metadata": {},
   "outputs": [
    {
     "data": {
      "text/html": [
       "<div>\n",
       "<style scoped>\n",
       "    .dataframe tbody tr th:only-of-type {\n",
       "        vertical-align: middle;\n",
       "    }\n",
       "\n",
       "    .dataframe tbody tr th {\n",
       "        vertical-align: top;\n",
       "    }\n",
       "\n",
       "    .dataframe thead th {\n",
       "        text-align: right;\n",
       "    }\n",
       "</style>\n",
       "<table border=\"1\" class=\"dataframe\">\n",
       "  <thead>\n",
       "    <tr style=\"text-align: right;\">\n",
       "      <th></th>\n",
       "      <th>reviewDescription</th>\n",
       "      <th>lower_txt</th>\n",
       "    </tr>\n",
       "  </thead>\n",
       "  <tbody>\n",
       "    <tr>\n",
       "      <th>0</th>\n",
       "      <td>Very good product</td>\n",
       "      <td>very good product</td>\n",
       "    </tr>\n",
       "    <tr>\n",
       "      <th>1</th>\n",
       "      <td>Nice and super picture quality.and sound also ...</td>\n",
       "      <td>nice and super picture quality.and sound also ...</td>\n",
       "    </tr>\n",
       "    <tr>\n",
       "      <th>2</th>\n",
       "      <td>This is excellent picture qualityUltimate soun...</td>\n",
       "      <td>this is excellent picture qualityultimate soun...</td>\n",
       "    </tr>\n",
       "    <tr>\n",
       "      <th>3</th>\n",
       "      <td>Nice</td>\n",
       "      <td>nice</td>\n",
       "    </tr>\n",
       "    <tr>\n",
       "      <th>4</th>\n",
       "      <td>Don't go with the negative reviews. Just go fo...</td>\n",
       "      <td>don't go with the negative reviews. just go fo...</td>\n",
       "    </tr>\n",
       "    <tr>\n",
       "      <th>...</th>\n",
       "      <td>...</td>\n",
       "      <td>...</td>\n",
       "    </tr>\n",
       "    <tr>\n",
       "      <th>338</th>\n",
       "      <td>Over all good ✌️🤩</td>\n",
       "      <td>over all good ✌️🤩</td>\n",
       "    </tr>\n",
       "    <tr>\n",
       "      <th>339</th>\n",
       "      <td>For watching OTT content the best tv compared ...</td>\n",
       "      <td>for watching ott content the best tv compared ...</td>\n",
       "    </tr>\n",
       "    <tr>\n",
       "      <th>340</th>\n",
       "      <td>wow</td>\n",
       "      <td>wow</td>\n",
       "    </tr>\n",
       "    <tr>\n",
       "      <th>341</th>\n",
       "      <td>I got IPS panel in 50 inch everyone in reviews...</td>\n",
       "      <td>i got ips panel in 50 inch everyone in reviews...</td>\n",
       "    </tr>\n",
       "    <tr>\n",
       "      <th>342</th>\n",
       "      <td>Very good</td>\n",
       "      <td>very good</td>\n",
       "    </tr>\n",
       "  </tbody>\n",
       "</table>\n",
       "<p>343 rows × 2 columns</p>\n",
       "</div>"
      ],
      "text/plain": [
       "                                     reviewDescription  \\\n",
       "0                                    Very good product   \n",
       "1    Nice and super picture quality.and sound also ...   \n",
       "2    This is excellent picture qualityUltimate soun...   \n",
       "3                                                 Nice   \n",
       "4    Don't go with the negative reviews. Just go fo...   \n",
       "..                                                 ...   \n",
       "338                                  Over all good ✌️🤩   \n",
       "339  For watching OTT content the best tv compared ...   \n",
       "340                                                wow   \n",
       "341  I got IPS panel in 50 inch everyone in reviews...   \n",
       "342                                          Very good   \n",
       "\n",
       "                                             lower_txt  \n",
       "0                                    very good product  \n",
       "1    nice and super picture quality.and sound also ...  \n",
       "2    this is excellent picture qualityultimate soun...  \n",
       "3                                                 nice  \n",
       "4    don't go with the negative reviews. just go fo...  \n",
       "..                                                 ...  \n",
       "338                                  over all good ✌️🤩  \n",
       "339  for watching ott content the best tv compared ...  \n",
       "340                                                wow  \n",
       "341  i got ips panel in 50 inch everyone in reviews...  \n",
       "342                                          very good  \n",
       "\n",
       "[343 rows x 2 columns]"
      ]
     },
     "execution_count": 67,
     "metadata": {},
     "output_type": "execute_result"
    }
   ],
   "source": [
    "txt"
   ]
  },
  {
   "cell_type": "code",
   "execution_count": 68,
   "metadata": {},
   "outputs": [],
   "source": [
    "from nltk.tokenize import word_tokenize"
   ]
  },
  {
   "cell_type": "code",
   "execution_count": 69,
   "metadata": {},
   "outputs": [
    {
     "name": "stderr",
     "output_type": "stream",
     "text": [
      "C:\\Users\\harip\\AppData\\Local\\Temp\\ipykernel_14232\\1736990946.py:1: SettingWithCopyWarning: \n",
      "A value is trying to be set on a copy of a slice from a DataFrame.\n",
      "Try using .loc[row_indexer,col_indexer] = value instead\n",
      "\n",
      "See the caveats in the documentation: https://pandas.pydata.org/pandas-docs/stable/user_guide/indexing.html#returning-a-view-versus-a-copy\n",
      "  txt['lower_txt']=txt['lower_txt'].astype(str).fillna('')\n"
     ]
    }
   ],
   "source": [
    "txt['lower_txt']=txt['lower_txt'].astype(str).fillna('')"
   ]
  },
  {
   "cell_type": "code",
   "execution_count": 70,
   "metadata": {},
   "outputs": [
    {
     "name": "stderr",
     "output_type": "stream",
     "text": [
      "C:\\Users\\harip\\AppData\\Local\\Temp\\ipykernel_14232\\372847361.py:4: SettingWithCopyWarning: \n",
      "A value is trying to be set on a copy of a slice from a DataFrame.\n",
      "Try using .loc[row_indexer,col_indexer] = value instead\n",
      "\n",
      "See the caveats in the documentation: https://pandas.pydata.org/pandas-docs/stable/user_guide/indexing.html#returning-a-view-versus-a-copy\n",
      "  txt['token_txt'] = token\n"
     ]
    }
   ],
   "source": [
    "token = []\n",
    "for i in txt['lower_txt']:\n",
    "    token.append(word_tokenize(i))\n",
    "txt['token_txt'] = token"
   ]
  },
  {
   "cell_type": "code",
   "execution_count": 71,
   "metadata": {},
   "outputs": [
    {
     "data": {
      "text/html": [
       "<div>\n",
       "<style scoped>\n",
       "    .dataframe tbody tr th:only-of-type {\n",
       "        vertical-align: middle;\n",
       "    }\n",
       "\n",
       "    .dataframe tbody tr th {\n",
       "        vertical-align: top;\n",
       "    }\n",
       "\n",
       "    .dataframe thead th {\n",
       "        text-align: right;\n",
       "    }\n",
       "</style>\n",
       "<table border=\"1\" class=\"dataframe\">\n",
       "  <thead>\n",
       "    <tr style=\"text-align: right;\">\n",
       "      <th></th>\n",
       "      <th>reviewDescription</th>\n",
       "      <th>lower_txt</th>\n",
       "      <th>token_txt</th>\n",
       "    </tr>\n",
       "  </thead>\n",
       "  <tbody>\n",
       "    <tr>\n",
       "      <th>0</th>\n",
       "      <td>Very good product</td>\n",
       "      <td>very good product</td>\n",
       "      <td>[very, good, product]</td>\n",
       "    </tr>\n",
       "    <tr>\n",
       "      <th>1</th>\n",
       "      <td>Nice and super picture quality.and sound also ...</td>\n",
       "      <td>nice and super picture quality.and sound also ...</td>\n",
       "      <td>[nice, and, super, picture, quality.and, sound...</td>\n",
       "    </tr>\n",
       "    <tr>\n",
       "      <th>2</th>\n",
       "      <td>This is excellent picture qualityUltimate soun...</td>\n",
       "      <td>this is excellent picture qualityultimate soun...</td>\n",
       "      <td>[this, is, excellent, picture, qualityultimate...</td>\n",
       "    </tr>\n",
       "    <tr>\n",
       "      <th>3</th>\n",
       "      <td>Nice</td>\n",
       "      <td>nice</td>\n",
       "      <td>[nice]</td>\n",
       "    </tr>\n",
       "    <tr>\n",
       "      <th>4</th>\n",
       "      <td>Don't go with the negative reviews. Just go fo...</td>\n",
       "      <td>don't go with the negative reviews. just go fo...</td>\n",
       "      <td>[do, n't, go, with, the, negative, reviews, .,...</td>\n",
       "    </tr>\n",
       "    <tr>\n",
       "      <th>...</th>\n",
       "      <td>...</td>\n",
       "      <td>...</td>\n",
       "      <td>...</td>\n",
       "    </tr>\n",
       "    <tr>\n",
       "      <th>338</th>\n",
       "      <td>Over all good ✌️🤩</td>\n",
       "      <td>over all good ✌️🤩</td>\n",
       "      <td>[over, all, good, ✌️🤩]</td>\n",
       "    </tr>\n",
       "    <tr>\n",
       "      <th>339</th>\n",
       "      <td>For watching OTT content the best tv compared ...</td>\n",
       "      <td>for watching ott content the best tv compared ...</td>\n",
       "      <td>[for, watching, ott, content, the, best, tv, c...</td>\n",
       "    </tr>\n",
       "    <tr>\n",
       "      <th>340</th>\n",
       "      <td>wow</td>\n",
       "      <td>wow</td>\n",
       "      <td>[wow]</td>\n",
       "    </tr>\n",
       "    <tr>\n",
       "      <th>341</th>\n",
       "      <td>I got IPS panel in 50 inch everyone in reviews...</td>\n",
       "      <td>i got ips panel in 50 inch everyone in reviews...</td>\n",
       "      <td>[i, got, ips, panel, in, 50, inch, everyone, i...</td>\n",
       "    </tr>\n",
       "    <tr>\n",
       "      <th>342</th>\n",
       "      <td>Very good</td>\n",
       "      <td>very good</td>\n",
       "      <td>[very, good]</td>\n",
       "    </tr>\n",
       "  </tbody>\n",
       "</table>\n",
       "<p>343 rows × 3 columns</p>\n",
       "</div>"
      ],
      "text/plain": [
       "                                     reviewDescription  \\\n",
       "0                                    Very good product   \n",
       "1    Nice and super picture quality.and sound also ...   \n",
       "2    This is excellent picture qualityUltimate soun...   \n",
       "3                                                 Nice   \n",
       "4    Don't go with the negative reviews. Just go fo...   \n",
       "..                                                 ...   \n",
       "338                                  Over all good ✌️🤩   \n",
       "339  For watching OTT content the best tv compared ...   \n",
       "340                                                wow   \n",
       "341  I got IPS panel in 50 inch everyone in reviews...   \n",
       "342                                          Very good   \n",
       "\n",
       "                                             lower_txt  \\\n",
       "0                                    very good product   \n",
       "1    nice and super picture quality.and sound also ...   \n",
       "2    this is excellent picture qualityultimate soun...   \n",
       "3                                                 nice   \n",
       "4    don't go with the negative reviews. just go fo...   \n",
       "..                                                 ...   \n",
       "338                                  over all good ✌️🤩   \n",
       "339  for watching ott content the best tv compared ...   \n",
       "340                                                wow   \n",
       "341  i got ips panel in 50 inch everyone in reviews...   \n",
       "342                                          very good   \n",
       "\n",
       "                                             token_txt  \n",
       "0                                [very, good, product]  \n",
       "1    [nice, and, super, picture, quality.and, sound...  \n",
       "2    [this, is, excellent, picture, qualityultimate...  \n",
       "3                                               [nice]  \n",
       "4    [do, n't, go, with, the, negative, reviews, .,...  \n",
       "..                                                 ...  \n",
       "338                             [over, all, good, ✌️🤩]  \n",
       "339  [for, watching, ott, content, the, best, tv, c...  \n",
       "340                                              [wow]  \n",
       "341  [i, got, ips, panel, in, 50, inch, everyone, i...  \n",
       "342                                       [very, good]  \n",
       "\n",
       "[343 rows x 3 columns]"
      ]
     },
     "execution_count": 71,
     "metadata": {},
     "output_type": "execute_result"
    }
   ],
   "source": [
    "txt"
   ]
  },
  {
   "cell_type": "code",
   "execution_count": 19,
   "metadata": {},
   "outputs": [],
   "source": [
    "# txt[\"token_txt\"] = txt[\"lower_txt\"].apply(labda x : x.word_tokenize())"
   ]
  },
  {
   "cell_type": "code",
   "execution_count": 72,
   "metadata": {},
   "outputs": [],
   "source": [
    "import string"
   ]
  },
  {
   "cell_type": "code",
   "execution_count": 73,
   "metadata": {},
   "outputs": [],
   "source": [
    "punctuation_rem = string.punctuation"
   ]
  },
  {
   "cell_type": "code",
   "execution_count": 79,
   "metadata": {},
   "outputs": [],
   "source": [
    "def remove_punctuation(punch):\n",
    "    return punch.translate(str.maketrans('','',punctuation_rem))"
   ]
  },
  {
   "cell_type": "code",
   "execution_count": 81,
   "metadata": {},
   "outputs": [
    {
     "name": "stderr",
     "output_type": "stream",
     "text": [
      "C:\\Users\\harip\\AppData\\Local\\Temp\\ipykernel_14232\\1477871875.py:2: SettingWithCopyWarning: \n",
      "A value is trying to be set on a copy of a slice from a DataFrame.\n",
      "Try using .loc[row_indexer,col_indexer] = value instead\n",
      "\n",
      "See the caveats in the documentation: https://pandas.pydata.org/pandas-docs/stable/user_guide/indexing.html#returning-a-view-versus-a-copy\n",
      "  txt['remove_punctuation'] = txt['lower_txt'].apply(lambda x: remove_punctuation(x))\n"
     ]
    }
   ],
   "source": [
    "\n",
    "# Assuming 'token_txt' contains strings with punctuation\n",
    "txt['remove_punctuation'] = txt['lower_txt'].apply(lambda x: remove_punctuation(x))"
   ]
  },
  {
   "cell_type": "code",
   "execution_count": 77,
   "metadata": {},
   "outputs": [
    {
     "data": {
      "text/plain": [
       "'!\"#$%&\\'()*+,-./:;<=>?@[\\\\]^_`{|}~'"
      ]
     },
     "execution_count": 77,
     "metadata": {},
     "output_type": "execute_result"
    }
   ],
   "source": [
    "punctuation_rem"
   ]
  },
  {
   "cell_type": "code",
   "execution_count": 82,
   "metadata": {},
   "outputs": [
    {
     "data": {
      "text/html": [
       "<div>\n",
       "<style scoped>\n",
       "    .dataframe tbody tr th:only-of-type {\n",
       "        vertical-align: middle;\n",
       "    }\n",
       "\n",
       "    .dataframe tbody tr th {\n",
       "        vertical-align: top;\n",
       "    }\n",
       "\n",
       "    .dataframe thead th {\n",
       "        text-align: right;\n",
       "    }\n",
       "</style>\n",
       "<table border=\"1\" class=\"dataframe\">\n",
       "  <thead>\n",
       "    <tr style=\"text-align: right;\">\n",
       "      <th></th>\n",
       "      <th>reviewDescription</th>\n",
       "      <th>lower_txt</th>\n",
       "      <th>token_txt</th>\n",
       "      <th>remove_punctuation</th>\n",
       "    </tr>\n",
       "  </thead>\n",
       "  <tbody>\n",
       "    <tr>\n",
       "      <th>0</th>\n",
       "      <td>Very good product</td>\n",
       "      <td>very good product</td>\n",
       "      <td>[very, good, product]</td>\n",
       "      <td>very good product</td>\n",
       "    </tr>\n",
       "    <tr>\n",
       "      <th>1</th>\n",
       "      <td>Nice and super picture quality.and sound also ...</td>\n",
       "      <td>nice and super picture quality.and sound also ...</td>\n",
       "      <td>[nice, and, super, picture, quality.and, sound...</td>\n",
       "      <td>nice and super picture qualityand sound also v...</td>\n",
       "    </tr>\n",
       "    <tr>\n",
       "      <th>2</th>\n",
       "      <td>This is excellent picture qualityUltimate soun...</td>\n",
       "      <td>this is excellent picture qualityultimate soun...</td>\n",
       "      <td>[this, is, excellent, picture, qualityultimate...</td>\n",
       "      <td>this is excellent picture qualityultimate soun...</td>\n",
       "    </tr>\n",
       "    <tr>\n",
       "      <th>3</th>\n",
       "      <td>Nice</td>\n",
       "      <td>nice</td>\n",
       "      <td>[nice]</td>\n",
       "      <td>nice</td>\n",
       "    </tr>\n",
       "    <tr>\n",
       "      <th>4</th>\n",
       "      <td>Don't go with the negative reviews. Just go fo...</td>\n",
       "      <td>don't go with the negative reviews. just go fo...</td>\n",
       "      <td>[do, n't, go, with, the, negative, reviews, .,...</td>\n",
       "      <td>dont go with the negative reviews just go for ...</td>\n",
       "    </tr>\n",
       "    <tr>\n",
       "      <th>...</th>\n",
       "      <td>...</td>\n",
       "      <td>...</td>\n",
       "      <td>...</td>\n",
       "      <td>...</td>\n",
       "    </tr>\n",
       "    <tr>\n",
       "      <th>338</th>\n",
       "      <td>Over all good ✌️🤩</td>\n",
       "      <td>over all good ✌️🤩</td>\n",
       "      <td>[over, all, good, ✌️🤩]</td>\n",
       "      <td>over all good ✌️🤩</td>\n",
       "    </tr>\n",
       "    <tr>\n",
       "      <th>339</th>\n",
       "      <td>For watching OTT content the best tv compared ...</td>\n",
       "      <td>for watching ott content the best tv compared ...</td>\n",
       "      <td>[for, watching, ott, content, the, best, tv, c...</td>\n",
       "      <td>for watching ott content the best tv compared ...</td>\n",
       "    </tr>\n",
       "    <tr>\n",
       "      <th>340</th>\n",
       "      <td>wow</td>\n",
       "      <td>wow</td>\n",
       "      <td>[wow]</td>\n",
       "      <td>wow</td>\n",
       "    </tr>\n",
       "    <tr>\n",
       "      <th>341</th>\n",
       "      <td>I got IPS panel in 50 inch everyone in reviews...</td>\n",
       "      <td>i got ips panel in 50 inch everyone in reviews...</td>\n",
       "      <td>[i, got, ips, panel, in, 50, inch, everyone, i...</td>\n",
       "      <td>i got ips panel in 50 inch everyone in reviews...</td>\n",
       "    </tr>\n",
       "    <tr>\n",
       "      <th>342</th>\n",
       "      <td>Very good</td>\n",
       "      <td>very good</td>\n",
       "      <td>[very, good]</td>\n",
       "      <td>very good</td>\n",
       "    </tr>\n",
       "  </tbody>\n",
       "</table>\n",
       "<p>343 rows × 4 columns</p>\n",
       "</div>"
      ],
      "text/plain": [
       "                                     reviewDescription  \\\n",
       "0                                    Very good product   \n",
       "1    Nice and super picture quality.and sound also ...   \n",
       "2    This is excellent picture qualityUltimate soun...   \n",
       "3                                                 Nice   \n",
       "4    Don't go with the negative reviews. Just go fo...   \n",
       "..                                                 ...   \n",
       "338                                  Over all good ✌️🤩   \n",
       "339  For watching OTT content the best tv compared ...   \n",
       "340                                                wow   \n",
       "341  I got IPS panel in 50 inch everyone in reviews...   \n",
       "342                                          Very good   \n",
       "\n",
       "                                             lower_txt  \\\n",
       "0                                    very good product   \n",
       "1    nice and super picture quality.and sound also ...   \n",
       "2    this is excellent picture qualityultimate soun...   \n",
       "3                                                 nice   \n",
       "4    don't go with the negative reviews. just go fo...   \n",
       "..                                                 ...   \n",
       "338                                  over all good ✌️🤩   \n",
       "339  for watching ott content the best tv compared ...   \n",
       "340                                                wow   \n",
       "341  i got ips panel in 50 inch everyone in reviews...   \n",
       "342                                          very good   \n",
       "\n",
       "                                             token_txt  \\\n",
       "0                                [very, good, product]   \n",
       "1    [nice, and, super, picture, quality.and, sound...   \n",
       "2    [this, is, excellent, picture, qualityultimate...   \n",
       "3                                               [nice]   \n",
       "4    [do, n't, go, with, the, negative, reviews, .,...   \n",
       "..                                                 ...   \n",
       "338                             [over, all, good, ✌️🤩]   \n",
       "339  [for, watching, ott, content, the, best, tv, c...   \n",
       "340                                              [wow]   \n",
       "341  [i, got, ips, panel, in, 50, inch, everyone, i...   \n",
       "342                                       [very, good]   \n",
       "\n",
       "                                    remove_punctuation  \n",
       "0                                    very good product  \n",
       "1    nice and super picture qualityand sound also v...  \n",
       "2    this is excellent picture qualityultimate soun...  \n",
       "3                                                 nice  \n",
       "4    dont go with the negative reviews just go for ...  \n",
       "..                                                 ...  \n",
       "338                                  over all good ✌️🤩  \n",
       "339  for watching ott content the best tv compared ...  \n",
       "340                                                wow  \n",
       "341  i got ips panel in 50 inch everyone in reviews...  \n",
       "342                                          very good  \n",
       "\n",
       "[343 rows x 4 columns]"
      ]
     },
     "execution_count": 82,
     "metadata": {},
     "output_type": "execute_result"
    }
   ],
   "source": [
    "txt"
   ]
  },
  {
   "cell_type": "code",
   "execution_count": 83,
   "metadata": {},
   "outputs": [
    {
     "name": "stderr",
     "output_type": "stream",
     "text": [
      "[nltk_data] Downloading package stopwords to\n",
      "[nltk_data]     C:\\Users\\harip\\AppData\\Roaming\\nltk_data...\n",
      "[nltk_data]   Package stopwords is already up-to-date!\n"
     ]
    },
    {
     "data": {
      "text/plain": [
       "True"
      ]
     },
     "execution_count": 83,
     "metadata": {},
     "output_type": "execute_result"
    }
   ],
   "source": [
    "# Stop words - To perfoem stop words we need to import few package and libraries as well!\n",
    "from nltk.corpus import stopwords\n",
    "nltk.download('stopwords')"
   ]
  },
  {
   "cell_type": "code",
   "execution_count": 84,
   "metadata": {},
   "outputs": [],
   "source": [
    "stop_wrd = stopwords.words('english')"
   ]
  },
  {
   "cell_type": "code",
   "execution_count": 85,
   "metadata": {},
   "outputs": [
    {
     "data": {
      "text/plain": [
       "['i',\n",
       " 'me',\n",
       " 'my',\n",
       " 'myself',\n",
       " 'we',\n",
       " 'our',\n",
       " 'ours',\n",
       " 'ourselves',\n",
       " 'you',\n",
       " \"you're\",\n",
       " \"you've\",\n",
       " \"you'll\",\n",
       " \"you'd\",\n",
       " 'your',\n",
       " 'yours',\n",
       " 'yourself',\n",
       " 'yourselves',\n",
       " 'he',\n",
       " 'him',\n",
       " 'his',\n",
       " 'himself',\n",
       " 'she',\n",
       " \"she's\",\n",
       " 'her',\n",
       " 'hers',\n",
       " 'herself',\n",
       " 'it',\n",
       " \"it's\",\n",
       " 'its',\n",
       " 'itself',\n",
       " 'they',\n",
       " 'them',\n",
       " 'their',\n",
       " 'theirs',\n",
       " 'themselves',\n",
       " 'what',\n",
       " 'which',\n",
       " 'who',\n",
       " 'whom',\n",
       " 'this',\n",
       " 'that',\n",
       " \"that'll\",\n",
       " 'these',\n",
       " 'those',\n",
       " 'am',\n",
       " 'is',\n",
       " 'are',\n",
       " 'was',\n",
       " 'were',\n",
       " 'be',\n",
       " 'been',\n",
       " 'being',\n",
       " 'have',\n",
       " 'has',\n",
       " 'had',\n",
       " 'having',\n",
       " 'do',\n",
       " 'does',\n",
       " 'did',\n",
       " 'doing',\n",
       " 'a',\n",
       " 'an',\n",
       " 'the',\n",
       " 'and',\n",
       " 'but',\n",
       " 'if',\n",
       " 'or',\n",
       " 'because',\n",
       " 'as',\n",
       " 'until',\n",
       " 'while',\n",
       " 'of',\n",
       " 'at',\n",
       " 'by',\n",
       " 'for',\n",
       " 'with',\n",
       " 'about',\n",
       " 'against',\n",
       " 'between',\n",
       " 'into',\n",
       " 'through',\n",
       " 'during',\n",
       " 'before',\n",
       " 'after',\n",
       " 'above',\n",
       " 'below',\n",
       " 'to',\n",
       " 'from',\n",
       " 'up',\n",
       " 'down',\n",
       " 'in',\n",
       " 'out',\n",
       " 'on',\n",
       " 'off',\n",
       " 'over',\n",
       " 'under',\n",
       " 'again',\n",
       " 'further',\n",
       " 'then',\n",
       " 'once',\n",
       " 'here',\n",
       " 'there',\n",
       " 'when',\n",
       " 'where',\n",
       " 'why',\n",
       " 'how',\n",
       " 'all',\n",
       " 'any',\n",
       " 'both',\n",
       " 'each',\n",
       " 'few',\n",
       " 'more',\n",
       " 'most',\n",
       " 'other',\n",
       " 'some',\n",
       " 'such',\n",
       " 'no',\n",
       " 'nor',\n",
       " 'not',\n",
       " 'only',\n",
       " 'own',\n",
       " 'same',\n",
       " 'so',\n",
       " 'than',\n",
       " 'too',\n",
       " 'very',\n",
       " 's',\n",
       " 't',\n",
       " 'can',\n",
       " 'will',\n",
       " 'just',\n",
       " 'don',\n",
       " \"don't\",\n",
       " 'should',\n",
       " \"should've\",\n",
       " 'now',\n",
       " 'd',\n",
       " 'll',\n",
       " 'm',\n",
       " 'o',\n",
       " 're',\n",
       " 've',\n",
       " 'y',\n",
       " 'ain',\n",
       " 'aren',\n",
       " \"aren't\",\n",
       " 'couldn',\n",
       " \"couldn't\",\n",
       " 'didn',\n",
       " \"didn't\",\n",
       " 'doesn',\n",
       " \"doesn't\",\n",
       " 'hadn',\n",
       " \"hadn't\",\n",
       " 'hasn',\n",
       " \"hasn't\",\n",
       " 'haven',\n",
       " \"haven't\",\n",
       " 'isn',\n",
       " \"isn't\",\n",
       " 'ma',\n",
       " 'mightn',\n",
       " \"mightn't\",\n",
       " 'mustn',\n",
       " \"mustn't\",\n",
       " 'needn',\n",
       " \"needn't\",\n",
       " 'shan',\n",
       " \"shan't\",\n",
       " 'shouldn',\n",
       " \"shouldn't\",\n",
       " 'wasn',\n",
       " \"wasn't\",\n",
       " 'weren',\n",
       " \"weren't\",\n",
       " 'won',\n",
       " \"won't\",\n",
       " 'wouldn',\n",
       " \"wouldn't\"]"
      ]
     },
     "execution_count": 85,
     "metadata": {},
     "output_type": "execute_result"
    }
   ],
   "source": [
    "stop_wrd"
   ]
  },
  {
   "cell_type": "code",
   "execution_count": 86,
   "metadata": {},
   "outputs": [],
   "source": [
    "def remove_stop_words(text):\n",
    "    stop_words = set(stopwords.words('english'))\n",
    "    words = word_tokenize(text)\n",
    "    filtered_words = [word for word in words if word.lower() not in stop_words]\n",
    "    return ' '.join(filtered_words)"
   ]
  },
  {
   "cell_type": "code",
   "execution_count": 87,
   "metadata": {},
   "outputs": [
    {
     "name": "stderr",
     "output_type": "stream",
     "text": [
      "C:\\Users\\harip\\AppData\\Local\\Temp\\ipykernel_14232\\4290199206.py:1: SettingWithCopyWarning: \n",
      "A value is trying to be set on a copy of a slice from a DataFrame.\n",
      "Try using .loc[row_indexer,col_indexer] = value instead\n",
      "\n",
      "See the caveats in the documentation: https://pandas.pydata.org/pandas-docs/stable/user_guide/indexing.html#returning-a-view-versus-a-copy\n",
      "  txt['stop_words'] = txt['lower_txt'].apply(lambda x : ' '.join([word for word in word_tokenize(x) if word.lower() not in set(stopwords.words('english'))]))\n"
     ]
    }
   ],
   "source": [
    "txt['stop_words'] = txt['lower_txt'].apply(lambda x : ' '.join([word for word in word_tokenize(x) if word.lower() not in set(stopwords.words('english'))]))"
   ]
  },
  {
   "cell_type": "code",
   "execution_count": 88,
   "metadata": {},
   "outputs": [
    {
     "data": {
      "text/html": [
       "<div>\n",
       "<style scoped>\n",
       "    .dataframe tbody tr th:only-of-type {\n",
       "        vertical-align: middle;\n",
       "    }\n",
       "\n",
       "    .dataframe tbody tr th {\n",
       "        vertical-align: top;\n",
       "    }\n",
       "\n",
       "    .dataframe thead th {\n",
       "        text-align: right;\n",
       "    }\n",
       "</style>\n",
       "<table border=\"1\" class=\"dataframe\">\n",
       "  <thead>\n",
       "    <tr style=\"text-align: right;\">\n",
       "      <th></th>\n",
       "      <th>reviewDescription</th>\n",
       "      <th>lower_txt</th>\n",
       "      <th>token_txt</th>\n",
       "      <th>remove_punctuation</th>\n",
       "      <th>stop_words</th>\n",
       "    </tr>\n",
       "  </thead>\n",
       "  <tbody>\n",
       "    <tr>\n",
       "      <th>0</th>\n",
       "      <td>Very good product</td>\n",
       "      <td>very good product</td>\n",
       "      <td>[very, good, product]</td>\n",
       "      <td>very good product</td>\n",
       "      <td>good product</td>\n",
       "    </tr>\n",
       "    <tr>\n",
       "      <th>1</th>\n",
       "      <td>Nice and super picture quality.and sound also ...</td>\n",
       "      <td>nice and super picture quality.and sound also ...</td>\n",
       "      <td>[nice, and, super, picture, quality.and, sound...</td>\n",
       "      <td>nice and super picture qualityand sound also v...</td>\n",
       "      <td>nice super picture quality.and sound also good...</td>\n",
       "    </tr>\n",
       "    <tr>\n",
       "      <th>2</th>\n",
       "      <td>This is excellent picture qualityUltimate soun...</td>\n",
       "      <td>this is excellent picture qualityultimate soun...</td>\n",
       "      <td>[this, is, excellent, picture, qualityultimate...</td>\n",
       "      <td>this is excellent picture qualityultimate soun...</td>\n",
       "      <td>excellent picture qualityultimate soundgood so...</td>\n",
       "    </tr>\n",
       "    <tr>\n",
       "      <th>3</th>\n",
       "      <td>Nice</td>\n",
       "      <td>nice</td>\n",
       "      <td>[nice]</td>\n",
       "      <td>nice</td>\n",
       "      <td>nice</td>\n",
       "    </tr>\n",
       "    <tr>\n",
       "      <th>4</th>\n",
       "      <td>Don't go with the negative reviews. Just go fo...</td>\n",
       "      <td>don't go with the negative reviews. just go fo...</td>\n",
       "      <td>[do, n't, go, with, the, negative, reviews, .,...</td>\n",
       "      <td>dont go with the negative reviews just go for ...</td>\n",
       "      <td>n't go negative reviews . go given price . sup...</td>\n",
       "    </tr>\n",
       "    <tr>\n",
       "      <th>...</th>\n",
       "      <td>...</td>\n",
       "      <td>...</td>\n",
       "      <td>...</td>\n",
       "      <td>...</td>\n",
       "      <td>...</td>\n",
       "    </tr>\n",
       "    <tr>\n",
       "      <th>338</th>\n",
       "      <td>Over all good ✌️🤩</td>\n",
       "      <td>over all good ✌️🤩</td>\n",
       "      <td>[over, all, good, ✌️🤩]</td>\n",
       "      <td>over all good ✌️🤩</td>\n",
       "      <td>good ✌️🤩</td>\n",
       "    </tr>\n",
       "    <tr>\n",
       "      <th>339</th>\n",
       "      <td>For watching OTT content the best tv compared ...</td>\n",
       "      <td>for watching ott content the best tv compared ...</td>\n",
       "      <td>[for, watching, ott, content, the, best, tv, c...</td>\n",
       "      <td>for watching ott content the best tv compared ...</td>\n",
       "      <td>watching ott content best tv compared chinese ...</td>\n",
       "    </tr>\n",
       "    <tr>\n",
       "      <th>340</th>\n",
       "      <td>wow</td>\n",
       "      <td>wow</td>\n",
       "      <td>[wow]</td>\n",
       "      <td>wow</td>\n",
       "      <td>wow</td>\n",
       "    </tr>\n",
       "    <tr>\n",
       "      <th>341</th>\n",
       "      <td>I got IPS panel in 50 inch everyone in reviews...</td>\n",
       "      <td>i got ips panel in 50 inch everyone in reviews...</td>\n",
       "      <td>[i, got, ips, panel, in, 50, inch, everyone, i...</td>\n",
       "      <td>i got ips panel in 50 inch everyone in reviews...</td>\n",
       "      <td>got ips panel 50 inch everyone reviews saying ...</td>\n",
       "    </tr>\n",
       "    <tr>\n",
       "      <th>342</th>\n",
       "      <td>Very good</td>\n",
       "      <td>very good</td>\n",
       "      <td>[very, good]</td>\n",
       "      <td>very good</td>\n",
       "      <td>good</td>\n",
       "    </tr>\n",
       "  </tbody>\n",
       "</table>\n",
       "<p>343 rows × 5 columns</p>\n",
       "</div>"
      ],
      "text/plain": [
       "                                     reviewDescription  \\\n",
       "0                                    Very good product   \n",
       "1    Nice and super picture quality.and sound also ...   \n",
       "2    This is excellent picture qualityUltimate soun...   \n",
       "3                                                 Nice   \n",
       "4    Don't go with the negative reviews. Just go fo...   \n",
       "..                                                 ...   \n",
       "338                                  Over all good ✌️🤩   \n",
       "339  For watching OTT content the best tv compared ...   \n",
       "340                                                wow   \n",
       "341  I got IPS panel in 50 inch everyone in reviews...   \n",
       "342                                          Very good   \n",
       "\n",
       "                                             lower_txt  \\\n",
       "0                                    very good product   \n",
       "1    nice and super picture quality.and sound also ...   \n",
       "2    this is excellent picture qualityultimate soun...   \n",
       "3                                                 nice   \n",
       "4    don't go with the negative reviews. just go fo...   \n",
       "..                                                 ...   \n",
       "338                                  over all good ✌️🤩   \n",
       "339  for watching ott content the best tv compared ...   \n",
       "340                                                wow   \n",
       "341  i got ips panel in 50 inch everyone in reviews...   \n",
       "342                                          very good   \n",
       "\n",
       "                                             token_txt  \\\n",
       "0                                [very, good, product]   \n",
       "1    [nice, and, super, picture, quality.and, sound...   \n",
       "2    [this, is, excellent, picture, qualityultimate...   \n",
       "3                                               [nice]   \n",
       "4    [do, n't, go, with, the, negative, reviews, .,...   \n",
       "..                                                 ...   \n",
       "338                             [over, all, good, ✌️🤩]   \n",
       "339  [for, watching, ott, content, the, best, tv, c...   \n",
       "340                                              [wow]   \n",
       "341  [i, got, ips, panel, in, 50, inch, everyone, i...   \n",
       "342                                       [very, good]   \n",
       "\n",
       "                                    remove_punctuation  \\\n",
       "0                                    very good product   \n",
       "1    nice and super picture qualityand sound also v...   \n",
       "2    this is excellent picture qualityultimate soun...   \n",
       "3                                                 nice   \n",
       "4    dont go with the negative reviews just go for ...   \n",
       "..                                                 ...   \n",
       "338                                  over all good ✌️🤩   \n",
       "339  for watching ott content the best tv compared ...   \n",
       "340                                                wow   \n",
       "341  i got ips panel in 50 inch everyone in reviews...   \n",
       "342                                          very good   \n",
       "\n",
       "                                            stop_words  \n",
       "0                                         good product  \n",
       "1    nice super picture quality.and sound also good...  \n",
       "2    excellent picture qualityultimate soundgood so...  \n",
       "3                                                 nice  \n",
       "4    n't go negative reviews . go given price . sup...  \n",
       "..                                                 ...  \n",
       "338                                           good ✌️🤩  \n",
       "339  watching ott content best tv compared chinese ...  \n",
       "340                                                wow  \n",
       "341  got ips panel 50 inch everyone reviews saying ...  \n",
       "342                                               good  \n",
       "\n",
       "[343 rows x 5 columns]"
      ]
     },
     "execution_count": 88,
     "metadata": {},
     "output_type": "execute_result"
    }
   ],
   "source": [
    "txt"
   ]
  },
  {
   "cell_type": "code",
   "execution_count": 89,
   "metadata": {},
   "outputs": [],
   "source": [
    "#Lemmatized\n",
    "from nltk.stem.wordnet import WordNetLemmatizer"
   ]
  },
  {
   "cell_type": "code",
   "execution_count": 90,
   "metadata": {},
   "outputs": [
    {
     "name": "stderr",
     "output_type": "stream",
     "text": [
      "C:\\Users\\harip\\AppData\\Local\\Temp\\ipykernel_14232\\3889062886.py:3: SettingWithCopyWarning: \n",
      "A value is trying to be set on a copy of a slice from a DataFrame.\n",
      "Try using .loc[row_indexer,col_indexer] = value instead\n",
      "\n",
      "See the caveats in the documentation: https://pandas.pydata.org/pandas-docs/stable/user_guide/indexing.html#returning-a-view-versus-a-copy\n",
      "  txt['lem_txt'] =txt['stop_words'].apply(lambda x: lemmatize(x))\n"
     ]
    }
   ],
   "source": [
    "def lemmatize(txt):\n",
    "    return txt\n",
    "txt['lem_txt'] =txt['stop_words'].apply(lambda x: lemmatize(x))\n",
    " "
   ]
  },
  {
   "cell_type": "code",
   "execution_count": 91,
   "metadata": {},
   "outputs": [
    {
     "data": {
      "text/html": [
       "<div>\n",
       "<style scoped>\n",
       "    .dataframe tbody tr th:only-of-type {\n",
       "        vertical-align: middle;\n",
       "    }\n",
       "\n",
       "    .dataframe tbody tr th {\n",
       "        vertical-align: top;\n",
       "    }\n",
       "\n",
       "    .dataframe thead th {\n",
       "        text-align: right;\n",
       "    }\n",
       "</style>\n",
       "<table border=\"1\" class=\"dataframe\">\n",
       "  <thead>\n",
       "    <tr style=\"text-align: right;\">\n",
       "      <th></th>\n",
       "      <th>reviewDescription</th>\n",
       "      <th>lower_txt</th>\n",
       "      <th>token_txt</th>\n",
       "      <th>remove_punctuation</th>\n",
       "      <th>stop_words</th>\n",
       "      <th>lem_txt</th>\n",
       "    </tr>\n",
       "  </thead>\n",
       "  <tbody>\n",
       "    <tr>\n",
       "      <th>0</th>\n",
       "      <td>Very good product</td>\n",
       "      <td>very good product</td>\n",
       "      <td>[very, good, product]</td>\n",
       "      <td>very good product</td>\n",
       "      <td>good product</td>\n",
       "      <td>good product</td>\n",
       "    </tr>\n",
       "    <tr>\n",
       "      <th>1</th>\n",
       "      <td>Nice and super picture quality.and sound also ...</td>\n",
       "      <td>nice and super picture quality.and sound also ...</td>\n",
       "      <td>[nice, and, super, picture, quality.and, sound...</td>\n",
       "      <td>nice and super picture qualityand sound also v...</td>\n",
       "      <td>nice super picture quality.and sound also good...</td>\n",
       "      <td>nice super picture quality.and sound also good...</td>\n",
       "    </tr>\n",
       "    <tr>\n",
       "      <th>2</th>\n",
       "      <td>This is excellent picture qualityUltimate soun...</td>\n",
       "      <td>this is excellent picture qualityultimate soun...</td>\n",
       "      <td>[this, is, excellent, picture, qualityultimate...</td>\n",
       "      <td>this is excellent picture qualityultimate soun...</td>\n",
       "      <td>excellent picture qualityultimate soundgood so...</td>\n",
       "      <td>excellent picture qualityultimate soundgood so...</td>\n",
       "    </tr>\n",
       "    <tr>\n",
       "      <th>3</th>\n",
       "      <td>Nice</td>\n",
       "      <td>nice</td>\n",
       "      <td>[nice]</td>\n",
       "      <td>nice</td>\n",
       "      <td>nice</td>\n",
       "      <td>nice</td>\n",
       "    </tr>\n",
       "    <tr>\n",
       "      <th>4</th>\n",
       "      <td>Don't go with the negative reviews. Just go fo...</td>\n",
       "      <td>don't go with the negative reviews. just go fo...</td>\n",
       "      <td>[do, n't, go, with, the, negative, reviews, .,...</td>\n",
       "      <td>dont go with the negative reviews just go for ...</td>\n",
       "      <td>n't go negative reviews . go given price . sup...</td>\n",
       "      <td>n't go negative reviews . go given price . sup...</td>\n",
       "    </tr>\n",
       "  </tbody>\n",
       "</table>\n",
       "</div>"
      ],
      "text/plain": [
       "                                   reviewDescription  \\\n",
       "0                                  Very good product   \n",
       "1  Nice and super picture quality.and sound also ...   \n",
       "2  This is excellent picture qualityUltimate soun...   \n",
       "3                                               Nice   \n",
       "4  Don't go with the negative reviews. Just go fo...   \n",
       "\n",
       "                                           lower_txt  \\\n",
       "0                                  very good product   \n",
       "1  nice and super picture quality.and sound also ...   \n",
       "2  this is excellent picture qualityultimate soun...   \n",
       "3                                               nice   \n",
       "4  don't go with the negative reviews. just go fo...   \n",
       "\n",
       "                                           token_txt  \\\n",
       "0                              [very, good, product]   \n",
       "1  [nice, and, super, picture, quality.and, sound...   \n",
       "2  [this, is, excellent, picture, qualityultimate...   \n",
       "3                                             [nice]   \n",
       "4  [do, n't, go, with, the, negative, reviews, .,...   \n",
       "\n",
       "                                  remove_punctuation  \\\n",
       "0                                  very good product   \n",
       "1  nice and super picture qualityand sound also v...   \n",
       "2  this is excellent picture qualityultimate soun...   \n",
       "3                                               nice   \n",
       "4  dont go with the negative reviews just go for ...   \n",
       "\n",
       "                                          stop_words  \\\n",
       "0                                       good product   \n",
       "1  nice super picture quality.and sound also good...   \n",
       "2  excellent picture qualityultimate soundgood so...   \n",
       "3                                               nice   \n",
       "4  n't go negative reviews . go given price . sup...   \n",
       "\n",
       "                                             lem_txt  \n",
       "0                                       good product  \n",
       "1  nice super picture quality.and sound also good...  \n",
       "2  excellent picture qualityultimate soundgood so...  \n",
       "3                                               nice  \n",
       "4  n't go negative reviews . go given price . sup...  "
      ]
     },
     "execution_count": 91,
     "metadata": {},
     "output_type": "execute_result"
    }
   ],
   "source": [
    "txt.head(5)"
   ]
  },
  {
   "cell_type": "code",
   "execution_count": 92,
   "metadata": {},
   "outputs": [],
   "source": [
    "#Most frequent word\n",
    "\n",
    "from collections import Counter"
   ]
  },
  {
   "cell_type": "code",
   "execution_count": 93,
   "metadata": {},
   "outputs": [
    {
     "data": {
      "text/plain": [
       "[('.', 366),\n",
       " ('good', 206),\n",
       " ('tv', 174),\n",
       " (',', 155),\n",
       " ('quality', 145),\n",
       " ('picture', 101),\n",
       " ('sound', 100),\n",
       " ('lg', 57),\n",
       " ('product', 51),\n",
       " ('...', 44)]"
      ]
     },
     "execution_count": 93,
     "metadata": {},
     "output_type": "execute_result"
    }
   ],
   "source": [
    "count = Counter()\n",
    "for tat in txt['lem_txt']:\n",
    "    for word in tat.split():\n",
    "        count[word]+= 1\n",
    "count.most_common(10)"
   ]
  },
  {
   "cell_type": "code",
   "execution_count": 96,
   "metadata": {},
   "outputs": [
    {
     "data": {
      "text/html": [
       "<div>\n",
       "<style scoped>\n",
       "    .dataframe tbody tr th:only-of-type {\n",
       "        vertical-align: middle;\n",
       "    }\n",
       "\n",
       "    .dataframe tbody tr th {\n",
       "        vertical-align: top;\n",
       "    }\n",
       "\n",
       "    .dataframe thead th {\n",
       "        text-align: right;\n",
       "    }\n",
       "</style>\n",
       "<table border=\"1\" class=\"dataframe\">\n",
       "  <thead>\n",
       "    <tr style=\"text-align: right;\">\n",
       "      <th></th>\n",
       "      <th>reviewDescription</th>\n",
       "      <th>lower_txt</th>\n",
       "      <th>token_txt</th>\n",
       "      <th>remove_punctuation</th>\n",
       "      <th>stop_words</th>\n",
       "      <th>lem_txt</th>\n",
       "    </tr>\n",
       "  </thead>\n",
       "  <tbody>\n",
       "    <tr>\n",
       "      <th>0</th>\n",
       "      <td>Very good product</td>\n",
       "      <td>very good product</td>\n",
       "      <td>[very, good, product]</td>\n",
       "      <td>very good product</td>\n",
       "      <td>good product</td>\n",
       "      <td>good product</td>\n",
       "    </tr>\n",
       "    <tr>\n",
       "      <th>1</th>\n",
       "      <td>Nice and super picture quality.and sound also ...</td>\n",
       "      <td>nice and super picture quality.and sound also ...</td>\n",
       "      <td>[nice, and, super, picture, quality.and, sound...</td>\n",
       "      <td>nice and super picture qualityand sound also v...</td>\n",
       "      <td>nice super picture quality.and sound also good...</td>\n",
       "      <td>nice super picture quality.and sound also good...</td>\n",
       "    </tr>\n",
       "    <tr>\n",
       "      <th>2</th>\n",
       "      <td>This is excellent picture qualityUltimate soun...</td>\n",
       "      <td>this is excellent picture qualityultimate soun...</td>\n",
       "      <td>[this, is, excellent, picture, qualityultimate...</td>\n",
       "      <td>this is excellent picture qualityultimate soun...</td>\n",
       "      <td>excellent picture qualityultimate soundgood so...</td>\n",
       "      <td>excellent picture qualityultimate soundgood so...</td>\n",
       "    </tr>\n",
       "    <tr>\n",
       "      <th>3</th>\n",
       "      <td>Nice</td>\n",
       "      <td>nice</td>\n",
       "      <td>[nice]</td>\n",
       "      <td>nice</td>\n",
       "      <td>nice</td>\n",
       "      <td>nice</td>\n",
       "    </tr>\n",
       "    <tr>\n",
       "      <th>4</th>\n",
       "      <td>Don't go with the negative reviews. Just go fo...</td>\n",
       "      <td>don't go with the negative reviews. just go fo...</td>\n",
       "      <td>[do, n't, go, with, the, negative, reviews, .,...</td>\n",
       "      <td>dont go with the negative reviews just go for ...</td>\n",
       "      <td>n't go negative reviews . go given price . sup...</td>\n",
       "      <td>n't go negative reviews . go given price . sup...</td>\n",
       "    </tr>\n",
       "  </tbody>\n",
       "</table>\n",
       "</div>"
      ],
      "text/plain": [
       "                                   reviewDescription  \\\n",
       "0                                  Very good product   \n",
       "1  Nice and super picture quality.and sound also ...   \n",
       "2  This is excellent picture qualityUltimate soun...   \n",
       "3                                               Nice   \n",
       "4  Don't go with the negative reviews. Just go fo...   \n",
       "\n",
       "                                           lower_txt  \\\n",
       "0                                  very good product   \n",
       "1  nice and super picture quality.and sound also ...   \n",
       "2  this is excellent picture qualityultimate soun...   \n",
       "3                                               nice   \n",
       "4  don't go with the negative reviews. just go fo...   \n",
       "\n",
       "                                           token_txt  \\\n",
       "0                              [very, good, product]   \n",
       "1  [nice, and, super, picture, quality.and, sound...   \n",
       "2  [this, is, excellent, picture, qualityultimate...   \n",
       "3                                             [nice]   \n",
       "4  [do, n't, go, with, the, negative, reviews, .,...   \n",
       "\n",
       "                                  remove_punctuation  \\\n",
       "0                                  very good product   \n",
       "1  nice and super picture qualityand sound also v...   \n",
       "2  this is excellent picture qualityultimate soun...   \n",
       "3                                               nice   \n",
       "4  dont go with the negative reviews just go for ...   \n",
       "\n",
       "                                          stop_words  \\\n",
       "0                                       good product   \n",
       "1  nice super picture quality.and sound also good...   \n",
       "2  excellent picture qualityultimate soundgood so...   \n",
       "3                                               nice   \n",
       "4  n't go negative reviews . go given price . sup...   \n",
       "\n",
       "                                             lem_txt  \n",
       "0                                       good product  \n",
       "1  nice super picture quality.and sound also good...  \n",
       "2  excellent picture qualityultimate soundgood so...  \n",
       "3                                               nice  \n",
       "4  n't go negative reviews . go given price . sup...  "
      ]
     },
     "execution_count": 96,
     "metadata": {},
     "output_type": "execute_result"
    }
   ],
   "source": [
    "txt.head()"
   ]
  },
  {
   "cell_type": "code",
   "execution_count": 110,
   "metadata": {},
   "outputs": [],
   "source": [
    "from wordcloud import wordcloud\n"
   ]
  },
  {
   "cell_type": "code",
   "execution_count": 112,
   "metadata": {},
   "outputs": [
    {
     "data": {
      "text/plain": [
       "{'.': 366,\n",
       " 'good': 206,\n",
       " 'tv': 174,\n",
       " ',': 155,\n",
       " 'quality': 145,\n",
       " 'picture': 101,\n",
       " 'sound': 100,\n",
       " 'lg': 57,\n",
       " 'product': 51,\n",
       " '...': 44,\n",
       " 'remote': 42,\n",
       " 'excellent': 41,\n",
       " 'awesome': 41,\n",
       " '..': 38,\n",
       " 'best': 34,\n",
       " 'nice': 32,\n",
       " 'panel': 27,\n",
       " 'price': 25,\n",
       " \"'s\": 25,\n",
       " 'also': 24,\n",
       " 'go': 24,\n",
       " 'connectivity': 24,\n",
       " 'money': 24,\n",
       " 'installation': 23,\n",
       " 'magic': 23,\n",
       " 'flipkart': 22,\n",
       " 'experience': 22,\n",
       " 'one': 21,\n",
       " 'viewing': 21,\n",
       " 'value': 21,\n",
       " 'service': 20,\n",
       " 'overall': 20,\n",
       " ')': 20,\n",
       " 'qled': 20,\n",
       " 'like': 19,\n",
       " 'motorola': 19,\n",
       " 'really': 19,\n",
       " 'superb': 18,\n",
       " '&': 18,\n",
       " 'buy': 17,\n",
       " 'purchase': 17,\n",
       " 'better': 17,\n",
       " 'super': 16,\n",
       " 'great': 16,\n",
       " 'ok': 16,\n",
       " '(': 16,\n",
       " 'va': 16,\n",
       " \"n't\": 15,\n",
       " 'clarity': 15,\n",
       " 'inch': 15,\n",
       " 'samsung': 15,\n",
       " 'audio': 15,\n",
       " 'ips': 15,\n",
       " 'happy': 14,\n",
       " 'delivery': 14,\n",
       " 'display': 14,\n",
       " 'without': 13,\n",
       " 'need': 13,\n",
       " 'issues': 12,\n",
       " 'use': 12,\n",
       " 'range': 12,\n",
       " 'normal': 12,\n",
       " 'brands': 12,\n",
       " 'thanks': 11,\n",
       " 'amazing': 11,\n",
       " 'looks': 11,\n",
       " 'get': 10,\n",
       " 'using': 10,\n",
       " 'features': 10,\n",
       " 'budget': 10,\n",
       " 'day': 10,\n",
       " 'dolby': 10,\n",
       " '’': 10,\n",
       " 'working': 10,\n",
       " 'time': 10,\n",
       " 'bought': 9,\n",
       " 'feel': 9,\n",
       " 'review': 9,\n",
       " 'expected': 9,\n",
       " 'video': 9,\n",
       " 'sony': 9,\n",
       " 'smart': 9,\n",
       " 'got': 9,\n",
       " 'even': 8,\n",
       " 'bluetooth': 8,\n",
       " 'less': 8,\n",
       " 'everything': 8,\n",
       " '4k': 8,\n",
       " 'home': 8,\n",
       " 'problem': 8,\n",
       " 'system': 8,\n",
       " 'give': 8,\n",
       " 'content': 8,\n",
       " 'videos': 8,\n",
       " 'performance': 7,\n",
       " 'model': 7,\n",
       " 'satisfied': 7,\n",
       " 'purchased': 7,\n",
       " 'much': 7,\n",
       " '50': 7,\n",
       " 'gives': 7,\n",
       " 'hdr': 7,\n",
       " 'output': 7,\n",
       " 'led': 7,\n",
       " 'worth': 7,\n",
       " 'days': 7,\n",
       " 'colors': 7,\n",
       " 'android': 7,\n",
       " 'hd': 7,\n",
       " 'see': 7,\n",
       " 'bit': 7,\n",
       " 'far': 7,\n",
       " 'angles': 7,\n",
       " 'voice': 7,\n",
       " '.....': 7,\n",
       " '55': 6,\n",
       " 'done': 6,\n",
       " 'must': 6,\n",
       " 'well': 6,\n",
       " 'month': 6,\n",
       " 'delay': 6,\n",
       " 'wifi': 6,\n",
       " 'premium': 6,\n",
       " 'contents': 6,\n",
       " 'screen': 6,\n",
       " 'connect': 6,\n",
       " 'simply': 6,\n",
       " 'angle': 6,\n",
       " 'works': 6,\n",
       " 'os': 6,\n",
       " 'installed': 6,\n",
       " 'thank': 6,\n",
       " \"''\": 6,\n",
       " 'looking': 6,\n",
       " 'vision': 6,\n",
       " ':': 6,\n",
       " '-': 6,\n",
       " 'every': 6,\n",
       " 'software': 5,\n",
       " 'given': 5,\n",
       " 'mount': 5,\n",
       " 'theatre': 5,\n",
       " 'customer': 5,\n",
       " \"'ve\": 5,\n",
       " 'bezel': 5,\n",
       " 'design': 5,\n",
       " 'loved': 5,\n",
       " 'poor': 5,\n",
       " 'specifications': 5,\n",
       " 'via': 5,\n",
       " 'soundbar': 5,\n",
       " 'two': 5,\n",
       " 'takes': 5,\n",
       " 'boot': 5,\n",
       " 'web': 5,\n",
       " 'used': 5,\n",
       " 'color': 5,\n",
       " 'support': 5,\n",
       " 'pro': 5,\n",
       " 'old': 5,\n",
       " '?': 5,\n",
       " 'sounds': 5,\n",
       " 'perfect': 5,\n",
       " 'u': 5,\n",
       " 'deal': 5,\n",
       " 'disappointed': 4,\n",
       " 'reviews': 4,\n",
       " 'think': 4,\n",
       " 'team': 4,\n",
       " 'wall': 4,\n",
       " 'provided': 4,\n",
       " 'comes': 4,\n",
       " 'still': 4,\n",
       " 'care': 4,\n",
       " 'otherwise': 4,\n",
       " 'however': 4,\n",
       " 'although': 4,\n",
       " 'start': 4,\n",
       " 'week': 4,\n",
       " 'thin': 4,\n",
       " 'enough': 4,\n",
       " 'speakers': 4,\n",
       " 'gb': 4,\n",
       " 'n': 4,\n",
       " 'available': 4,\n",
       " 'compare': 4,\n",
       " 'brand': 4,\n",
       " 'thing': 4,\n",
       " 'mi': 4,\n",
       " 'provide': 4,\n",
       " 'find': 4,\n",
       " 'warranty': 4,\n",
       " 'port': 4,\n",
       " 'bar': 4,\n",
       " 'optical': 4,\n",
       " 'sd': 4,\n",
       " 'fix': 4,\n",
       " 'please': 4,\n",
       " 'effective': 4,\n",
       " 'mentioned': 4}"
      ]
     },
     "execution_count": 112,
     "metadata": {},
     "output_type": "execute_result"
    }
   ],
   "source": [
    "lem_txt = dict(count.most_common(200))\n",
    "lem_txt"
   ]
  },
  {
   "cell_type": "code",
   "execution_count": 114,
   "metadata": {},
   "outputs": [],
   "source": [
    "from wordcloud import WordCloud\n"
   ]
  },
  {
   "cell_type": "code",
   "execution_count": 115,
   "metadata": {},
   "outputs": [
    {
     "data": {
      "image/png": "[encoded data removed]",
      "text/plain": [
       "<Figure size 1000x800 with 1 Axes>"
      ]
     },
     "metadata": {},
     "output_type": "display_data"
    }
   ],
   "source": [
    "# Join the filtered words into a string\n",
    "word_cloud = WordCloud(background_color = 'lightcyan', width = 2000, height = 2000).generate_from_frequencies(lem_txt)\n",
    "plt.figure(figsize = (10,8))\n",
    "plt.axis('off')\n",
    "plt.title('Vocabulary of top 200 words from Reviews', fontsize = 20)\n",
    "plt.imshow(word_cloud)\n",
    "plt.show()"
   ]
  },
  {
   "cell_type": "code",
   "execution_count": 116,
   "metadata": {},
   "outputs": [],
   "source": [
    "import spacy "
   ]
  },
  {
   "cell_type": "code",
   "execution_count": null,
   "metadata": {},
   "outputs": [],
   "source": [
    "#!python -m spacy download en_core_web_md"
   ]
  },
  {
   "cell_type": "code",
   "execution_count": 118,
   "metadata": {},
   "outputs": [],
   "source": [
    "import en_core_web_md "
   ]
  },
  {
   "cell_type": "code",
   "execution_count": 119,
   "metadata": {},
   "outputs": [],
   "source": [
    "nlp=en_core_web_md.load()"
   ]
  },
  {
   "cell_type": "code",
   "execution_count": 120,
   "metadata": {},
   "outputs": [],
   "source": [
    "def explain_text_entities(text):\n",
    "    doc = nlp(text)\n",
    "    for ent in doc.ents:\n",
    "        print(f'Entity : {ent}, Label : {ent.label_}, {spacy.explain(ent.label_)}')"
   ]
  },
  {
   "cell_type": "code",
   "execution_count": 123,
   "metadata": {},
   "outputs": [
    {
     "data": {
      "text/html": [
       "<span class=\"tex2jax_ignore\"><div class=\"entities\" style=\"line-height: 2.5; direction: ltr\">I am reviewing after \n",
       "<mark class=\"entity\" style=\"background: #bfe1d9; padding: 0.45em 0.6em; margin: 0 0.25em; line-height: 1; border-radius: 0.35em;\">\n",
       "    a month\n",
       "    <span style=\"font-size: 0.8em; font-weight: bold; line-height: 1; border-radius: 0.35em; vertical-align: middle; margin-left: 0.5rem\">DATE</span>\n",
       "</mark>\n",
       " of use.Initially I was hesitant to buy \n",
       "<mark class=\"entity\" style=\"background: #7aecec; padding: 0.45em 0.6em; margin: 0 0.25em; line-height: 1; border-radius: 0.35em;\">\n",
       "    Motorola TV\n",
       "    <span style=\"font-size: 0.8em; font-weight: bold; line-height: 1; border-radius: 0.35em; vertical-align: middle; margin-left: 0.5rem\">ORG</span>\n",
       "</mark>\n",
       ". However after a good research I have finalised my purchase.Picture quality is awesome.Sound quality is great.Delivery and installation service is awesome too.Since I am based out of \n",
       "<mark class=\"entity\" style=\"background: #feca74; padding: 0.45em 0.6em; margin: 0 0.25em; line-height: 1; border-radius: 0.35em;\">\n",
       "    Bangalore\n",
       "    <span style=\"font-size: 0.8em; font-weight: bold; line-height: 1; border-radius: 0.35em; vertical-align: middle; margin-left: 0.5rem\">GPE</span>\n",
       "</mark>\n",
       " there was no delay in delivery.Connectivity is also seamless. It connects with \n",
       "<mark class=\"entity\" style=\"background: #7aecec; padding: 0.45em 0.6em; margin: 0 0.25em; line-height: 1; border-radius: 0.35em;\">\n",
       "    Bluetooth\n",
       "    <span style=\"font-size: 0.8em; font-weight: bold; line-height: 1; border-radius: 0.35em; vertical-align: middle; margin-left: 0.5rem\">ORG</span>\n",
       "</mark>\n",
       " without any issues. WiFI connectivity is good too.Only con (although I am nit picking), in built memory is less. After you start...</div></span>"
      ],
      "text/plain": [
       "<IPython.core.display.HTML object>"
      ]
     },
     "metadata": {},
     "output_type": "display_data"
    },
    {
     "name": "stderr",
     "output_type": "stream",
     "text": [
      "C:\\Users\\harip\\AppData\\Local\\Packages\\PythonSoftwareFoundation.Python.3.11_qbz5n2kfra8p0\\LocalCache\\local-packages\\Python311\\site-packages\\spacy\\displacy\\__init__.py:213: UserWarning: [W006] No entities to visualize found in Doc object. If this is surprising to you, make sure the Doc was processed using a model that supports named entity recognition, and check the `doc.ents` property manually if necessary.\n",
      "  warnings.warn(Warnings.W006)\n"
     ]
    },
    {
     "data": {
      "text/html": [
       "<span class=\"tex2jax_ignore\"><div class=\"entities\" style=\"line-height: 2.5; direction: ltr\">Good product…and good quality</div></span>"
      ],
      "text/plain": [
       "<IPython.core.display.HTML object>"
      ]
     },
     "metadata": {},
     "output_type": "display_data"
    },
    {
     "data": {
      "text/html": [
       "<span class=\"tex2jax_ignore\"><div class=\"entities\" style=\"line-height: 2.5; direction: ltr\">Good tv, go for it.</div></span>"
      ],
      "text/plain": [
       "<IPython.core.display.HTML object>"
      ]
     },
     "metadata": {},
     "output_type": "display_data"
    },
    {
     "data": {
      "text/html": [
       "<span class=\"tex2jax_ignore\"><div class=\"entities\" style=\"line-height: 2.5; direction: ltr\">I've been using it for \n",
       "<mark class=\"entity\" style=\"background: #bfe1d9; padding: 0.45em 0.6em; margin: 0 0.25em; line-height: 1; border-radius: 0.35em;\">\n",
       "    almost a week\n",
       "    <span style=\"font-size: 0.8em; font-weight: bold; line-height: 1; border-radius: 0.35em; vertical-align: middle; margin-left: 0.5rem\">DATE</span>\n",
       "</mark>\n",
       " here is my review of motorola revou qled \n",
       "<mark class=\"entity\" style=\"background: #e4e7d2; padding: 0.45em 0.6em; margin: 0 0.25em; line-height: 1; border-radius: 0.35em;\">\n",
       "    50 inch\n",
       "    <span style=\"font-size: 0.8em; font-weight: bold; line-height: 1; border-radius: 0.35em; vertical-align: middle; margin-left: 0.5rem\">QUANTITY</span>\n",
       "</mark>\n",
       " tv. The build of this Tv is very good  it comes with metal stands which looks stylish and premium. the thin bezel design gives the tv futuristic looks The panel is \n",
       "<mark class=\"entity\" style=\"background: #7aecec; padding: 0.45em 0.6em; margin: 0 0.25em; line-height: 1; border-radius: 0.35em;\">\n",
       "    VA\n",
       "    <span style=\"font-size: 0.8em; font-weight: bold; line-height: 1; border-radius: 0.35em; vertical-align: middle; margin-left: 0.5rem\">ORG</span>\n",
       "</mark>\n",
       " dled  with quantum filters which gives very beautiful picture quality it has enough briteness to view HDR contents  the 60w speakers are awesome  produce  good sound output  However the storage is very less around 7.3 gb of free space and the n...</div></span>"
      ],
      "text/plain": [
       "<IPython.core.display.HTML object>"
      ]
     },
     "metadata": {},
     "output_type": "display_data"
    },
    {
     "data": {
      "text/html": [
       "<span class=\"tex2jax_ignore\"><div class=\"entities\" style=\"line-height: 2.5; direction: ltr\">Rest everything is good except magic remote is not available with this model and Tv panel is not \n",
       "<mark class=\"entity\" style=\"background: #7aecec; padding: 0.45em 0.6em; margin: 0 0.25em; line-height: 1; border-radius: 0.35em;\">\n",
       "    IPA\n",
       "    <span style=\"font-size: 0.8em; font-weight: bold; line-height: 1; border-radius: 0.35em; vertical-align: middle; margin-left: 0.5rem\">ORG</span>\n",
       "</mark>\n",
       ".  sound quality is best.</div></span>"
      ],
      "text/plain": [
       "<IPython.core.display.HTML object>"
      ]
     },
     "metadata": {},
     "output_type": "display_data"
    },
    {
     "data": {
      "text/html": [
       "<span class=\"tex2jax_ignore\"><div class=\"entities\" style=\"line-height: 2.5; direction: ltr\">Very very good tv awesome picture quality and sound❤❤</div></span>"
      ],
      "text/plain": [
       "<IPython.core.display.HTML object>"
      ]
     },
     "metadata": {},
     "output_type": "display_data"
    },
    {
     "data": {
      "text/html": [
       "<span class=\"tex2jax_ignore\"><div class=\"entities\" style=\"line-height: 2.5; direction: ltr\">Picture quality is just ok... sound is good</div></span>"
      ],
      "text/plain": [
       "<IPython.core.display.HTML object>"
      ]
     },
     "metadata": {},
     "output_type": "display_data"
    },
    {
     "data": {
      "text/html": [
       "<span class=\"tex2jax_ignore\"><div class=\"entities\" style=\"line-height: 2.5; direction: ltr\">I just loved it. Amazing sound and picture quality.</div></span>"
      ],
      "text/plain": [
       "<IPython.core.display.HTML object>"
      ]
     },
     "metadata": {},
     "output_type": "display_data"
    },
    {
     "data": {
      "text/html": [
       "<span class=\"tex2jax_ignore\"><div class=\"entities\" style=\"line-height: 2.5; direction: ltr\">Sound and picture quality is excellent. Do not compare it with \n",
       "<mark class=\"entity\" style=\"background: #7aecec; padding: 0.45em 0.6em; margin: 0 0.25em; line-height: 1; border-radius: 0.35em;\">\n",
       "    chaines brand\n",
       "    <span style=\"font-size: 0.8em; font-weight: bold; line-height: 1; border-radius: 0.35em; vertical-align: middle; margin-left: 0.5rem\">ORG</span>\n",
       "</mark>\n",
       " and not go for less rating. Sound is crystal clear and enough for domestic use. Overall this TV is very good. \n",
       "<mark class=\"entity\" style=\"background: #e4e7d2; padding: 0.45em 0.6em; margin: 0 0.25em; line-height: 1; border-radius: 0.35em;\">\n",
       "    One\n",
       "    <span style=\"font-size: 0.8em; font-weight: bold; line-height: 1; border-radius: 0.35em; vertical-align: middle; margin-left: 0.5rem\">CARDINAL</span>\n",
       "</mark>\n",
       " thing is to be noted that screen contrast and sharpness is more better than \n",
       "<mark class=\"entity\" style=\"background: #7aecec; padding: 0.45em 0.6em; margin: 0 0.25em; line-height: 1; border-radius: 0.35em;\">\n",
       "    chaines\n",
       "    <span style=\"font-size: 0.8em; font-weight: bold; line-height: 1; border-radius: 0.35em; vertical-align: middle; margin-left: 0.5rem\">ORG</span>\n",
       "</mark>\n",
       " products and screen life of \n",
       "<mark class=\"entity\" style=\"background: #7aecec; padding: 0.45em 0.6em; margin: 0 0.25em; line-height: 1; border-radius: 0.35em;\">\n",
       "    chaines\n",
       "    <span style=\"font-size: 0.8em; font-weight: bold; line-height: 1; border-radius: 0.35em; vertical-align: middle; margin-left: 0.5rem\">ORG</span>\n",
       "</mark>\n",
       " products are becoming faint after use \n",
       "<mark class=\"entity\" style=\"background: #bfe1d9; padding: 0.45em 0.6em; margin: 0 0.25em; line-height: 1; border-radius: 0.35em;\">\n",
       "    4-5 year\n",
       "    <span style=\"font-size: 0.8em; font-weight: bold; line-height: 1; border-radius: 0.35em; vertical-align: middle; margin-left: 0.5rem\">DATE</span>\n",
       "</mark>\n",
       " I feel it in \n",
       "<mark class=\"entity\" style=\"background: #7aecec; padding: 0.45em 0.6em; margin: 0 0.25em; line-height: 1; border-radius: 0.35em;\">\n",
       "    MI TV\n",
       "    <span style=\"font-size: 0.8em; font-weight: bold; line-height: 1; border-radius: 0.35em; vertical-align: middle; margin-left: 0.5rem\">ORG</span>\n",
       "</mark>\n",
       ". Just concept of led bulb that \n",
       "<mark class=\"entity\" style=\"background: #bfe1d9; padding: 0.45em 0.6em; margin: 0 0.25em; line-height: 1; border-radius: 0.35em;\">\n",
       "    6 month\n",
       "    <span style=\"font-size: 0.8em; font-weight: bold; line-height: 1; border-radius: 0.35em; vertical-align: middle; margin-left: 0.5rem\">DATE</span>\n",
       "</mark>\n",
       " use its light become lesser than compare new one.Installation part is poor and I...</div></span>"
      ],
      "text/plain": [
       "<IPython.core.display.HTML object>"
      ]
     },
     "metadata": {},
     "output_type": "display_data"
    },
    {
     "data": {
      "text/html": [
       "<span class=\"tex2jax_ignore\"><div class=\"entities\" style=\"line-height: 2.5; direction: ltr\">Overall Good package, Picture quality is excellent but sound quality is also good but not as expected</div></span>"
      ],
      "text/plain": [
       "<IPython.core.display.HTML object>"
      ]
     },
     "metadata": {},
     "output_type": "display_data"
    },
    {
     "data": {
      "text/html": [
       "<span class=\"tex2jax_ignore\"><div class=\"entities\" style=\"line-height: 2.5; direction: ltr\">Excellent Service Provide by service engineer and we are satisfied with product quality and hope it is same in future also</div></span>"
      ],
      "text/plain": [
       "<IPython.core.display.HTML object>"
      ]
     },
     "metadata": {},
     "output_type": "display_data"
    },
    {
     "data": {
      "text/html": [
       "<span class=\"tex2jax_ignore\"><div class=\"entities\" style=\"line-height: 2.5; direction: ltr\">Good</div></span>"
      ],
      "text/plain": [
       "<IPython.core.display.HTML object>"
      ]
     },
     "metadata": {},
     "output_type": "display_data"
    },
    {
     "data": {
      "text/html": [
       "<span class=\"tex2jax_ignore\"><div class=\"entities\" style=\"line-height: 2.5; direction: ltr\">\n",
       "<mark class=\"entity\" style=\"background: #e4e7d2; padding: 0.45em 0.6em; margin: 0 0.25em; line-height: 1; border-radius: 0.35em;\">\n",
       "    One\n",
       "    <span style=\"font-size: 0.8em; font-weight: bold; line-height: 1; border-radius: 0.35em; vertical-align: middle; margin-left: 0.5rem\">CARDINAL</span>\n",
       "</mark>\n",
       " of the best \n",
       "<mark class=\"entity\" style=\"background: #7aecec; padding: 0.45em 0.6em; margin: 0 0.25em; line-height: 1; border-radius: 0.35em;\">\n",
       "    QLED TV\n",
       "    <span style=\"font-size: 0.8em; font-weight: bold; line-height: 1; border-radius: 0.35em; vertical-align: middle; margin-left: 0.5rem\">ORG</span>\n",
       "</mark>\n",
       " at this price range with such a superb specifications. I t is really difficult to find such specifications at this price range.\n",
       "<mark class=\"entity\" style=\"background: #aa9cfc; padding: 0.45em 0.6em; margin: 0 0.25em; line-height: 1; border-radius: 0.35em;\">\n",
       "    JEEVES\n",
       "    <span style=\"font-size: 0.8em; font-weight: bold; line-height: 1; border-radius: 0.35em; vertical-align: middle; margin-left: 0.5rem\">PERSON</span>\n",
       "</mark>\n",
       " service person is knowledgeable with soft spoken &amp; explained all the features of TV &amp; how to save guard TV from damages. I also purchased compleat warranty via. Him.This review is just after \n",
       "<mark class=\"entity\" style=\"background: #bfe1d9; padding: 0.45em 0.6em; margin: 0 0.25em; line-height: 1; border-radius: 0.35em;\">\n",
       "    48 hrs\n",
       "    <span style=\"font-size: 0.8em; font-weight: bold; line-height: 1; border-radius: 0.35em; vertical-align: middle; margin-left: 0.5rem\">TIME</span>\n",
       "</mark>\n",
       " of installation over all I am happy ,expecting similar services from \n",
       "<mark class=\"entity\" style=\"background: #aa9cfc; padding: 0.45em 0.6em; margin: 0 0.25em; line-height: 1; border-radius: 0.35em;\">\n",
       "    JEEVES\n",
       "    <span style=\"font-size: 0.8em; font-weight: bold; line-height: 1; border-radius: 0.35em; vertical-align: middle; margin-left: 0.5rem\">PERSON</span>\n",
       "</mark>\n",
       " in future too.</div></span>"
      ],
      "text/plain": [
       "<IPython.core.display.HTML object>"
      ]
     },
     "metadata": {},
     "output_type": "display_data"
    },
    {
     "data": {
      "text/html": [
       "<span class=\"tex2jax_ignore\"><div class=\"entities\" style=\"line-height: 2.5; direction: ltr\">Overall performance is good</div></span>"
      ],
      "text/plain": [
       "<IPython.core.display.HTML object>"
      ]
     },
     "metadata": {},
     "output_type": "display_data"
    },
    {
     "data": {
      "text/html": [
       "<span class=\"tex2jax_ignore\"><div class=\"entities\" style=\"line-height: 2.5; direction: ltr\">Gr8 purchase</div></span>"
      ],
      "text/plain": [
       "<IPython.core.display.HTML object>"
      ]
     },
     "metadata": {},
     "output_type": "display_data"
    },
    {
     "data": {
      "text/html": [
       "<span class=\"tex2jax_ignore\"><div class=\"entities\" style=\"line-height: 2.5; direction: ltr\">Good QLED Tv with in budget.</div></span>"
      ],
      "text/plain": [
       "<IPython.core.display.HTML object>"
      ]
     },
     "metadata": {},
     "output_type": "display_data"
    },
    {
     "data": {
      "text/html": [
       "<span class=\"tex2jax_ignore\"><div class=\"entities\" style=\"line-height: 2.5; direction: ltr\">TV is good picture quality is also good. Worth it \n",
       "<mark class=\"entity\" style=\"background: #7aecec; padding: 0.45em 0.6em; margin: 0 0.25em; line-height: 1; border-radius: 0.35em;\">\n",
       "    QLED\n",
       "    <span style=\"font-size: 0.8em; font-weight: bold; line-height: 1; border-radius: 0.35em; vertical-align: middle; margin-left: 0.5rem\">ORG</span>\n",
       "</mark>\n",
       " in this price range. But the only drawback is it does not have \n",
       "<mark class=\"entity\" style=\"background: #7aecec; padding: 0.45em 0.6em; margin: 0 0.25em; line-height: 1; border-radius: 0.35em;\">\n",
       "    ARC\n",
       "    <span style=\"font-size: 0.8em; font-weight: bold; line-height: 1; border-radius: 0.35em; vertical-align: middle; margin-left: 0.5rem\">ORG</span>\n",
       "</mark>\n",
       " or eARC hdmi port for the sound bar to connect. How to connect the soundbar now. My soundbar does not have optical slot. Overall quality and clarity is Good.</div></span>"
      ],
      "text/plain": [
       "<IPython.core.display.HTML object>"
      ]
     },
     "metadata": {},
     "output_type": "display_data"
    },
    {
     "data": {
      "text/html": [
       "<span class=\"tex2jax_ignore\"><div class=\"entities\" style=\"line-height: 2.5; direction: ltr\">Nice</div></span>"
      ],
      "text/plain": [
       "<IPython.core.display.HTML object>"
      ]
     },
     "metadata": {},
     "output_type": "display_data"
    },
    {
     "data": {
      "text/html": [
       "<span class=\"tex2jax_ignore\"><div class=\"entities\" style=\"line-height: 2.5; direction: ltr\">The picture and sound quality is excellent. TV's picture upscale capability is really good. Can use SD set-top box and TV will upscale it really good. Sound quality with \n",
       "<mark class=\"entity\" style=\"background: #e4e7d2; padding: 0.45em 0.6em; margin: 0 0.25em; line-height: 1; border-radius: 0.35em;\">\n",
       "    20 watt\n",
       "    <span style=\"font-size: 0.8em; font-weight: bold; line-height: 1; border-radius: 0.35em; vertical-align: middle; margin-left: 0.5rem\">QUANTITY</span>\n",
       "</mark>\n",
       " speaker is really good. You won't need soundbar or additional speakers even for larger rooms.</div></span>"
      ],
      "text/plain": [
       "<IPython.core.display.HTML object>"
      ]
     },
     "metadata": {},
     "output_type": "display_data"
    },
    {
     "data": {
      "text/html": [
       "<span class=\"tex2jax_ignore\"><div class=\"entities\" style=\"line-height: 2.5; direction: ltr\">Simply oswm some bugs company fix please... Another wise excellent tvv.</div></span>"
      ],
      "text/plain": [
       "<IPython.core.display.HTML object>"
      ]
     },
     "metadata": {},
     "output_type": "display_data"
    },
    {
     "data": {
      "text/html": [
       "<span class=\"tex2jax_ignore\"><div class=\"entities\" style=\"line-height: 2.5; direction: ltr\">Picture quality very good</div></span>"
      ],
      "text/plain": [
       "<IPython.core.display.HTML object>"
      ]
     },
     "metadata": {},
     "output_type": "display_data"
    },
    {
     "data": {
      "text/html": [
       "<span class=\"tex2jax_ignore\"><div class=\"entities\" style=\"line-height: 2.5; direction: ltr\">\n",
       "<mark class=\"entity\" style=\"background: #7aecec; padding: 0.45em 0.6em; margin: 0 0.25em; line-height: 1; border-radius: 0.35em;\">\n",
       "    Great TV\n",
       "    <span style=\"font-size: 0.8em; font-weight: bold; line-height: 1; border-radius: 0.35em; vertical-align: middle; margin-left: 0.5rem\">ORG</span>\n",
       "</mark>\n",
       " and good delivery and installation team</div></span>"
      ],
      "text/plain": [
       "<IPython.core.display.HTML object>"
      ]
     },
     "metadata": {},
     "output_type": "display_data"
    },
    {
     "data": {
      "text/html": [
       "<span class=\"tex2jax_ignore\"><div class=\"entities\" style=\"line-height: 2.5; direction: ltr\">It is okay product but just after \n",
       "<mark class=\"entity\" style=\"background: #bfe1d9; padding: 0.45em 0.6em; margin: 0 0.25em; line-height: 1; border-radius: 0.35em;\">\n",
       "    10 days\n",
       "    <span style=\"font-size: 0.8em; font-weight: bold; line-height: 1; border-radius: 0.35em; vertical-align: middle; margin-left: 0.5rem\">DATE</span>\n",
       "</mark>\n",
       " price reduce by \n",
       "<mark class=\"entity\" style=\"background: #e4e7d2; padding: 0.45em 0.6em; margin: 0 0.25em; line-height: 1; border-radius: 0.35em;\">\n",
       "    5\n",
       "    <span style=\"font-size: 0.8em; font-weight: bold; line-height: 1; border-radius: 0.35em; vertical-align: middle; margin-left: 0.5rem\">CARDINAL</span>\n",
       "</mark>\n",
       "K , which is really disgustingIt doesnot seem qled tv, it is normal led tvSound is not ao much effective as mentioned in description, it is just like good for nothing</div></span>"
      ],
      "text/plain": [
       "<IPython.core.display.HTML object>"
      ]
     },
     "metadata": {},
     "output_type": "display_data"
    },
    {
     "data": {
      "text/html": [
       "<span class=\"tex2jax_ignore\"><div class=\"entities\" style=\"line-height: 2.5; direction: ltr\">I've been using this TV for \n",
       "<mark class=\"entity\" style=\"background: #bfe1d9; padding: 0.45em 0.6em; margin: 0 0.25em; line-height: 1; border-radius: 0.35em;\">\n",
       "    past two weeks\n",
       "    <span style=\"font-size: 0.8em; font-weight: bold; line-height: 1; border-radius: 0.35em; vertical-align: middle; margin-left: 0.5rem\">DATE</span>\n",
       "</mark>\n",
       " now. Excellent QLED; The display is amazing and produces all colors with utmost clarity. This \n",
       "<mark class=\"entity\" style=\"background: #7aecec; padding: 0.45em 0.6em; margin: 0 0.25em; line-height: 1; border-radius: 0.35em;\">\n",
       "    VA\n",
       "    <span style=\"font-size: 0.8em; font-weight: bold; line-height: 1; border-radius: 0.35em; vertical-align: middle; margin-left: 0.5rem\">ORG</span>\n",
       "</mark>\n",
       " panel does not wash out the colors while viewing from sides. It has good viewing angle. TV when powered on in \n",
       "<mark class=\"entity\" style=\"background: #bfe1d9; padding: 0.45em 0.6em; margin: 0 0.25em; line-height: 1; border-radius: 0.35em;\">\n",
       "    the morning\n",
       "    <span style=\"font-size: 0.8em; font-weight: bold; line-height: 1; border-radius: 0.35em; vertical-align: middle; margin-left: 0.5rem\">TIME</span>\n",
       "</mark>\n",
       " takes \n",
       "<mark class=\"entity\" style=\"background: #bfe1d9; padding: 0.45em 0.6em; margin: 0 0.25em; line-height: 1; border-radius: 0.35em;\">\n",
       "    60 seconds\n",
       "    <span style=\"font-size: 0.8em; font-weight: bold; line-height: 1; border-radius: 0.35em; vertical-align: middle; margin-left: 0.5rem\">TIME</span>\n",
       "</mark>\n",
       " to boot which is normal to any \n",
       "<mark class=\"entity\" style=\"background: #7aecec; padding: 0.45em 0.6em; margin: 0 0.25em; line-height: 1; border-radius: 0.35em;\">\n",
       "    android\n",
       "    <span style=\"font-size: 0.8em; font-weight: bold; line-height: 1; border-radius: 0.35em; vertical-align: middle; margin-left: 0.5rem\">ORG</span>\n",
       "</mark>\n",
       " TV. Once the TV is up everything works quick; Buttery smooth interface but the spotlight remote disconnects often. It reconnects without any hurdles but we often get notificatio...</div></span>"
      ],
      "text/plain": [
       "<IPython.core.display.HTML object>"
      ]
     },
     "metadata": {},
     "output_type": "display_data"
    },
    {
     "data": {
      "text/html": [
       "<span class=\"tex2jax_ignore\"><div class=\"entities\" style=\"line-height: 2.5; direction: ltr\">\n",
       "<mark class=\"entity\" style=\"background: #7aecec; padding: 0.45em 0.6em; margin: 0 0.25em; line-height: 1; border-radius: 0.35em;\">\n",
       "    Superb\n",
       "    <span style=\"font-size: 0.8em; font-weight: bold; line-height: 1; border-radius: 0.35em; vertical-align: middle; margin-left: 0.5rem\">ORG</span>\n",
       "</mark>\n",
       " picture quality and web os software is quite good and much improved. \n",
       "<mark class=\"entity\" style=\"background: #bfeeb7; padding: 0.45em 0.6em; margin: 0 0.25em; line-height: 1; border-radius: 0.35em;\">\n",
       "    Ultra HD 4k\n",
       "    <span style=\"font-size: 0.8em; font-weight: bold; line-height: 1; border-radius: 0.35em; vertical-align: middle; margin-left: 0.5rem\">PRODUCT</span>\n",
       "</mark>\n",
       " video clarity is awesome and it's quite clear that \n",
       "<mark class=\"entity\" style=\"background: #7aecec; padding: 0.45em 0.6em; margin: 0 0.25em; line-height: 1; border-radius: 0.35em;\">\n",
       "    LG\n",
       "    <span style=\"font-size: 0.8em; font-weight: bold; line-height: 1; border-radius: 0.35em; vertical-align: middle; margin-left: 0.5rem\">ORG</span>\n",
       "</mark>\n",
       " is best in technology. The only area where \n",
       "<mark class=\"entity\" style=\"background: #7aecec; padding: 0.45em 0.6em; margin: 0 0.25em; line-height: 1; border-radius: 0.35em;\">\n",
       "    LG\n",
       "    <span style=\"font-size: 0.8em; font-weight: bold; line-height: 1; border-radius: 0.35em; vertical-align: middle; margin-left: 0.5rem\">ORG</span>\n",
       "</mark>\n",
       " need to improve is sound quality. I can say sound quality is good but not that much great. Anyway a superb TV which is absolutely value for money</div></span>"
      ],
      "text/plain": [
       "<IPython.core.display.HTML object>"
      ]
     },
     "metadata": {},
     "output_type": "display_data"
    },
    {
     "data": {
      "text/html": [
       "<span class=\"tex2jax_ignore\"><div class=\"entities\" style=\"line-height: 2.5; direction: ltr\">received in good condition.Delivery is prompt and \n",
       "<mark class=\"entity\" style=\"background: #bfe1d9; padding: 0.45em 0.6em; margin: 0 0.25em; line-height: 1; border-radius: 0.35em;\">\n",
       "    the same day\n",
       "    <span style=\"font-size: 0.8em; font-weight: bold; line-height: 1; border-radius: 0.35em; vertical-align: middle; margin-left: 0.5rem\">DATE</span>\n",
       "</mark>\n",
       " service engineer installed. thank you flipkart.</div></span>"
      ],
      "text/plain": [
       "<IPython.core.display.HTML object>"
      ]
     },
     "metadata": {},
     "output_type": "display_data"
    },
    {
     "data": {
      "text/html": [
       "<span class=\"tex2jax_ignore\"><div class=\"entities\" style=\"line-height: 2.5; direction: ltr\">Product is brilliant in terms of Picture and sound. great purchase.Completely satisfied.</div></span>"
      ],
      "text/plain": [
       "<IPython.core.display.HTML object>"
      ]
     },
     "metadata": {},
     "output_type": "display_data"
    },
    {
     "data": {
      "text/html": [
       "<span class=\"tex2jax_ignore\"><div class=\"entities\" style=\"line-height: 2.5; direction: ltr\">Very good TV. Didn't disappoint at all. I was initially worried about the comparison of \n",
       "<mark class=\"entity\" style=\"background: #7aecec; padding: 0.45em 0.6em; margin: 0 0.25em; line-height: 1; border-radius: 0.35em;\">\n",
       "    Motorola TV\n",
       "    <span style=\"font-size: 0.8em; font-weight: bold; line-height: 1; border-radius: 0.35em; vertical-align: middle; margin-left: 0.5rem\">ORG</span>\n",
       "</mark>\n",
       " vs standard and well proven brands like \n",
       "<mark class=\"entity\" style=\"background: #7aecec; padding: 0.45em 0.6em; margin: 0 0.25em; line-height: 1; border-radius: 0.35em;\">\n",
       "    Sony\n",
       "    <span style=\"font-size: 0.8em; font-weight: bold; line-height: 1; border-radius: 0.35em; vertical-align: middle; margin-left: 0.5rem\">ORG</span>\n",
       "</mark>\n",
       ", \n",
       "<mark class=\"entity\" style=\"background: #7aecec; padding: 0.45em 0.6em; margin: 0 0.25em; line-height: 1; border-radius: 0.35em;\">\n",
       "    Samsung\n",
       "    <span style=\"font-size: 0.8em; font-weight: bold; line-height: 1; border-radius: 0.35em; vertical-align: middle; margin-left: 0.5rem\">ORG</span>\n",
       "</mark>\n",
       " and \n",
       "<mark class=\"entity\" style=\"background: #7aecec; padding: 0.45em 0.6em; margin: 0 0.25em; line-height: 1; border-radius: 0.35em;\">\n",
       "    LG\n",
       "    <span style=\"font-size: 0.8em; font-weight: bold; line-height: 1; border-radius: 0.35em; vertical-align: middle; margin-left: 0.5rem\">ORG</span>\n",
       "</mark>\n",
       ". Because one could see other brands in showrooms and feel the experience. But after going through feedback online and also hearing from a friend who had used \n",
       "<mark class=\"entity\" style=\"background: #7aecec; padding: 0.45em 0.6em; margin: 0 0.25em; line-height: 1; border-radius: 0.35em;\">\n",
       "    Motorola TV\n",
       "    <span style=\"font-size: 0.8em; font-weight: bold; line-height: 1; border-radius: 0.35em; vertical-align: middle; margin-left: 0.5rem\">ORG</span>\n",
       "</mark>\n",
       " I went ahead and purchased this \n",
       "<mark class=\"entity\" style=\"background: #e4e7d2; padding: 0.45em 0.6em; margin: 0 0.25em; line-height: 1; border-radius: 0.35em;\">\n",
       "    55&quot; inch\n",
       "    <span style=\"font-size: 0.8em; font-weight: bold; line-height: 1; border-radius: 0.35em; vertical-align: middle; margin-left: 0.5rem\">QUANTITY</span>\n",
       "</mark>\n",
       " TV. Its sleek yet \n",
       "<mark class=\"entity\" style=\"background: #7aecec; padding: 0.45em 0.6em; margin: 0 0.25em; line-height: 1; border-radius: 0.35em;\">\n",
       "    Audio (Dolby\n",
       "    <span style=\"font-size: 0.8em; font-weight: bold; line-height: 1; border-radius: 0.35em; vertical-align: middle; margin-left: 0.5rem\">ORG</span>\n",
       "</mark>\n",
       ") is very good. No need of \n",
       "<mark class=\"entity\" style=\"background: #7aecec; padding: 0.45em 0.6em; margin: 0 0.25em; line-height: 1; border-radius: 0.35em;\">\n",
       "    Home\n",
       "    <span style=\"font-size: 0.8em; font-weight: bold; line-height: 1; border-radius: 0.35em; vertical-align: middle; margin-left: 0.5rem\">ORG</span>\n",
       "</mark>\n",
       " theatre if you have this TV.  Mainly display is good which is w...</div></span>"
      ],
      "text/plain": [
       "<IPython.core.display.HTML object>"
      ]
     },
     "metadata": {},
     "output_type": "display_data"
    },
    {
     "data": {
      "text/html": [
       "<span class=\"tex2jax_ignore\"><div class=\"entities\" style=\"line-height: 2.5; direction: ltr\">Picture quality is excellent and many times better than \n",
       "<mark class=\"entity\" style=\"background: #7aecec; padding: 0.45em 0.6em; margin: 0 0.25em; line-height: 1; border-radius: 0.35em;\">\n",
       "    Mi/Sansui\n",
       "    <span style=\"font-size: 0.8em; font-weight: bold; line-height: 1; border-radius: 0.35em; vertical-align: middle; margin-left: 0.5rem\">ORG</span>\n",
       "</mark>\n",
       " and other local brands. Always go for brands like \n",
       "<mark class=\"entity\" style=\"background: #aa9cfc; padding: 0.45em 0.6em; margin: 0 0.25em; line-height: 1; border-radius: 0.35em;\">\n",
       "    LG/ Samsung\n",
       "    <span style=\"font-size: 0.8em; font-weight: bold; line-height: 1; border-radius: 0.35em; vertical-align: middle; margin-left: 0.5rem\">PERSON</span>\n",
       "</mark>\n",
       " /Sony if your pocket allows.Excellent service provided by \n",
       "<mark class=\"entity\" style=\"background: #7aecec; padding: 0.45em 0.6em; margin: 0 0.25em; line-height: 1; border-radius: 0.35em;\">\n",
       "    Flipkart\n",
       "    <span style=\"font-size: 0.8em; font-weight: bold; line-height: 1; border-radius: 0.35em; vertical-align: middle; margin-left: 0.5rem\">ORG</span>\n",
       "</mark>\n",
       " and \n",
       "<mark class=\"entity\" style=\"background: #7aecec; padding: 0.45em 0.6em; margin: 0 0.25em; line-height: 1; border-radius: 0.35em;\">\n",
       "    LG\n",
       "    <span style=\"font-size: 0.8em; font-weight: bold; line-height: 1; border-radius: 0.35em; vertical-align: middle; margin-left: 0.5rem\">ORG</span>\n",
       "</mark>\n",
       " team. Happy with the product.</div></span>"
      ],
      "text/plain": [
       "<IPython.core.display.HTML object>"
      ]
     },
     "metadata": {},
     "output_type": "display_data"
    },
    {
     "data": {
      "text/html": [
       "<span class=\"tex2jax_ignore\"><div class=\"entities\" style=\"line-height: 2.5; direction: ltr\">Product and service excellent</div></span>"
      ],
      "text/plain": [
       "<IPython.core.display.HTML object>"
      ]
     },
     "metadata": {},
     "output_type": "display_data"
    },
    {
     "data": {
      "text/html": [
       "<span class=\"tex2jax_ignore\"><div class=\"entities\" style=\"line-height: 2.5; direction: ltr\">Very Nice Video Quality. Good Sound. Good User interface. But there is Problem in sound with \n",
       "<mark class=\"entity\" style=\"background: #7aecec; padding: 0.45em 0.6em; margin: 0 0.25em; line-height: 1; border-radius: 0.35em;\">\n",
       "    Bluetooth\n",
       "    <span style=\"font-size: 0.8em; font-weight: bold; line-height: 1; border-radius: 0.35em; vertical-align: middle; margin-left: 0.5rem\">ORG</span>\n",
       "</mark>\n",
       " earphones. There is disruption in sound.</div></span>"
      ],
      "text/plain": [
       "<IPython.core.display.HTML object>"
      ]
     },
     "metadata": {},
     "output_type": "display_data"
    },
    {
     "data": {
      "text/html": [
       "<span class=\"tex2jax_ignore\"><div class=\"entities\" style=\"line-height: 2.5; direction: ltr\">It is really a super cool TV.. it feels like premium and value for money 💰.</div></span>"
      ],
      "text/plain": [
       "<IPython.core.display.HTML object>"
      ]
     },
     "metadata": {},
     "output_type": "display_data"
    },
    {
     "data": {
      "text/html": [
       "<span class=\"tex2jax_ignore\"><div class=\"entities\" style=\"line-height: 2.5; direction: ltr\">Color system super Sound quality super but Remote system is slow light ga</div></span>"
      ],
      "text/plain": [
       "<IPython.core.display.HTML object>"
      ]
     },
     "metadata": {},
     "output_type": "display_data"
    },
    {
     "data": {
      "text/html": [
       "<span class=\"tex2jax_ignore\"><div class=\"entities\" style=\"line-height: 2.5; direction: ltr\">I would not say that the TV is best but if you’re looking for a budget TV.. go for it. The 4k and HD quality is good and you will enjoy it. Sound is obviously not you can expect to the level of \n",
       "<mark class=\"entity\" style=\"background: #7aecec; padding: 0.45em 0.6em; margin: 0 0.25em; line-height: 1; border-radius: 0.35em;\">\n",
       "    Sony\n",
       "    <span style=\"font-size: 0.8em; font-weight: bold; line-height: 1; border-radius: 0.35em; vertical-align: middle; margin-left: 0.5rem\">ORG</span>\n",
       "</mark>\n",
       " but ok. Connect it from your \n",
       "<mark class=\"entity\" style=\"background: #7aecec; padding: 0.45em 0.6em; margin: 0 0.25em; line-height: 1; border-radius: 0.35em;\">\n",
       "    BT\n",
       "    <span style=\"font-size: 0.8em; font-weight: bold; line-height: 1; border-radius: 0.35em; vertical-align: middle; margin-left: 0.5rem\">ORG</span>\n",
       "</mark>\n",
       " speaker and enjoy. The delivery and installation was super fast. The same was done within \n",
       "<mark class=\"entity\" style=\"background: #bfe1d9; padding: 0.45em 0.6em; margin: 0 0.25em; line-height: 1; border-radius: 0.35em;\">\n",
       "    12 hours\n",
       "    <span style=\"font-size: 0.8em; font-weight: bold; line-height: 1; border-radius: 0.35em; vertical-align: middle; margin-left: 0.5rem\">TIME</span>\n",
       "</mark>\n",
       " of my placing the request.</div></span>"
      ],
      "text/plain": [
       "<IPython.core.display.HTML object>"
      ]
     },
     "metadata": {},
     "output_type": "display_data"
    },
    {
     "data": {
      "text/html": [
       "<span class=\"tex2jax_ignore\"><div class=\"entities\" style=\"line-height: 2.5; direction: ltr\">Top notch picture quality, and sound is really loud with good and heavy bass.</div></span>"
      ],
      "text/plain": [
       "<IPython.core.display.HTML object>"
      ]
     },
     "metadata": {},
     "output_type": "display_data"
    }
   ],
   "source": [
    "for i in range(15,50):\n",
    "    one_sentance = txt['reviewDescription'][i]\n",
    "    doc = nlp(one_sentance)\n",
    "    spacy.displacy.render(doc, style = 'ent', jupyter = True)"
   ]
  },
  {
   "cell_type": "code",
   "execution_count": 122,
   "metadata": {},
   "outputs": [
    {
     "data": {
      "text/html": [
       "<div>\n",
       "<style scoped>\n",
       "    .dataframe tbody tr th:only-of-type {\n",
       "        vertical-align: middle;\n",
       "    }\n",
       "\n",
       "    .dataframe tbody tr th {\n",
       "        vertical-align: top;\n",
       "    }\n",
       "\n",
       "    .dataframe thead th {\n",
       "        text-align: right;\n",
       "    }\n",
       "</style>\n",
       "<table border=\"1\" class=\"dataframe\">\n",
       "  <thead>\n",
       "    <tr style=\"text-align: right;\">\n",
       "      <th></th>\n",
       "      <th>reviewDescription</th>\n",
       "      <th>lower_txt</th>\n",
       "      <th>token_txt</th>\n",
       "      <th>remove_punctuation</th>\n",
       "      <th>stop_words</th>\n",
       "      <th>lem_txt</th>\n",
       "    </tr>\n",
       "  </thead>\n",
       "  <tbody>\n",
       "    <tr>\n",
       "      <th>0</th>\n",
       "      <td>Very good product</td>\n",
       "      <td>very good product</td>\n",
       "      <td>[very, good, product]</td>\n",
       "      <td>very good product</td>\n",
       "      <td>good product</td>\n",
       "      <td>good product</td>\n",
       "    </tr>\n",
       "    <tr>\n",
       "      <th>1</th>\n",
       "      <td>Nice and super picture quality.and sound also ...</td>\n",
       "      <td>nice and super picture quality.and sound also ...</td>\n",
       "      <td>[nice, and, super, picture, quality.and, sound...</td>\n",
       "      <td>nice and super picture qualityand sound also v...</td>\n",
       "      <td>nice super picture quality.and sound also good...</td>\n",
       "      <td>nice super picture quality.and sound also good...</td>\n",
       "    </tr>\n",
       "    <tr>\n",
       "      <th>2</th>\n",
       "      <td>This is excellent picture qualityUltimate soun...</td>\n",
       "      <td>this is excellent picture qualityultimate soun...</td>\n",
       "      <td>[this, is, excellent, picture, qualityultimate...</td>\n",
       "      <td>this is excellent picture qualityultimate soun...</td>\n",
       "      <td>excellent picture qualityultimate soundgood so...</td>\n",
       "      <td>excellent picture qualityultimate soundgood so...</td>\n",
       "    </tr>\n",
       "    <tr>\n",
       "      <th>3</th>\n",
       "      <td>Nice</td>\n",
       "      <td>nice</td>\n",
       "      <td>[nice]</td>\n",
       "      <td>nice</td>\n",
       "      <td>nice</td>\n",
       "      <td>nice</td>\n",
       "    </tr>\n",
       "    <tr>\n",
       "      <th>4</th>\n",
       "      <td>Don't go with the negative reviews. Just go fo...</td>\n",
       "      <td>don't go with the negative reviews. just go fo...</td>\n",
       "      <td>[do, n't, go, with, the, negative, reviews, .,...</td>\n",
       "      <td>dont go with the negative reviews just go for ...</td>\n",
       "      <td>n't go negative reviews . go given price . sup...</td>\n",
       "      <td>n't go negative reviews . go given price . sup...</td>\n",
       "    </tr>\n",
       "    <tr>\n",
       "      <th>...</th>\n",
       "      <td>...</td>\n",
       "      <td>...</td>\n",
       "      <td>...</td>\n",
       "      <td>...</td>\n",
       "      <td>...</td>\n",
       "      <td>...</td>\n",
       "    </tr>\n",
       "    <tr>\n",
       "      <th>338</th>\n",
       "      <td>Over all good ✌️🤩</td>\n",
       "      <td>over all good ✌️🤩</td>\n",
       "      <td>[over, all, good, ✌️🤩]</td>\n",
       "      <td>over all good ✌️🤩</td>\n",
       "      <td>good ✌️🤩</td>\n",
       "      <td>good ✌️🤩</td>\n",
       "    </tr>\n",
       "    <tr>\n",
       "      <th>339</th>\n",
       "      <td>For watching OTT content the best tv compared ...</td>\n",
       "      <td>for watching ott content the best tv compared ...</td>\n",
       "      <td>[for, watching, ott, content, the, best, tv, c...</td>\n",
       "      <td>for watching ott content the best tv compared ...</td>\n",
       "      <td>watching ott content best tv compared chinese ...</td>\n",
       "      <td>watching ott content best tv compared chinese ...</td>\n",
       "    </tr>\n",
       "    <tr>\n",
       "      <th>340</th>\n",
       "      <td>wow</td>\n",
       "      <td>wow</td>\n",
       "      <td>[wow]</td>\n",
       "      <td>wow</td>\n",
       "      <td>wow</td>\n",
       "      <td>wow</td>\n",
       "    </tr>\n",
       "    <tr>\n",
       "      <th>341</th>\n",
       "      <td>I got IPS panel in 50 inch everyone in reviews...</td>\n",
       "      <td>i got ips panel in 50 inch everyone in reviews...</td>\n",
       "      <td>[i, got, ips, panel, in, 50, inch, everyone, i...</td>\n",
       "      <td>i got ips panel in 50 inch everyone in reviews...</td>\n",
       "      <td>got ips panel 50 inch everyone reviews saying ...</td>\n",
       "      <td>got ips panel 50 inch everyone reviews saying ...</td>\n",
       "    </tr>\n",
       "    <tr>\n",
       "      <th>342</th>\n",
       "      <td>Very good</td>\n",
       "      <td>very good</td>\n",
       "      <td>[very, good]</td>\n",
       "      <td>very good</td>\n",
       "      <td>good</td>\n",
       "      <td>good</td>\n",
       "    </tr>\n",
       "  </tbody>\n",
       "</table>\n",
       "<p>343 rows × 6 columns</p>\n",
       "</div>"
      ],
      "text/plain": [
       "                                     reviewDescription  \\\n",
       "0                                    Very good product   \n",
       "1    Nice and super picture quality.and sound also ...   \n",
       "2    This is excellent picture qualityUltimate soun...   \n",
       "3                                                 Nice   \n",
       "4    Don't go with the negative reviews. Just go fo...   \n",
       "..                                                 ...   \n",
       "338                                  Over all good ✌️🤩   \n",
       "339  For watching OTT content the best tv compared ...   \n",
       "340                                                wow   \n",
       "341  I got IPS panel in 50 inch everyone in reviews...   \n",
       "342                                          Very good   \n",
       "\n",
       "                                             lower_txt  \\\n",
       "0                                    very good product   \n",
       "1    nice and super picture quality.and sound also ...   \n",
       "2    this is excellent picture qualityultimate soun...   \n",
       "3                                                 nice   \n",
       "4    don't go with the negative reviews. just go fo...   \n",
       "..                                                 ...   \n",
       "338                                  over all good ✌️🤩   \n",
       "339  for watching ott content the best tv compared ...   \n",
       "340                                                wow   \n",
       "341  i got ips panel in 50 inch everyone in reviews...   \n",
       "342                                          very good   \n",
       "\n",
       "                                             token_txt  \\\n",
       "0                                [very, good, product]   \n",
       "1    [nice, and, super, picture, quality.and, sound...   \n",
       "2    [this, is, excellent, picture, qualityultimate...   \n",
       "3                                               [nice]   \n",
       "4    [do, n't, go, with, the, negative, reviews, .,...   \n",
       "..                                                 ...   \n",
       "338                             [over, all, good, ✌️🤩]   \n",
       "339  [for, watching, ott, content, the, best, tv, c...   \n",
       "340                                              [wow]   \n",
       "341  [i, got, ips, panel, in, 50, inch, everyone, i...   \n",
       "342                                       [very, good]   \n",
       "\n",
       "                                    remove_punctuation  \\\n",
       "0                                    very good product   \n",
       "1    nice and super picture qualityand sound also v...   \n",
       "2    this is excellent picture qualityultimate soun...   \n",
       "3                                                 nice   \n",
       "4    dont go with the negative reviews just go for ...   \n",
       "..                                                 ...   \n",
       "338                                  over all good ✌️🤩   \n",
       "339  for watching ott content the best tv compared ...   \n",
       "340                                                wow   \n",
       "341  i got ips panel in 50 inch everyone in reviews...   \n",
       "342                                          very good   \n",
       "\n",
       "                                            stop_words  \\\n",
       "0                                         good product   \n",
       "1    nice super picture quality.and sound also good...   \n",
       "2    excellent picture qualityultimate soundgood so...   \n",
       "3                                                 nice   \n",
       "4    n't go negative reviews . go given price . sup...   \n",
       "..                                                 ...   \n",
       "338                                           good ✌️🤩   \n",
       "339  watching ott content best tv compared chinese ...   \n",
       "340                                                wow   \n",
       "341  got ips panel 50 inch everyone reviews saying ...   \n",
       "342                                               good   \n",
       "\n",
       "                                               lem_txt  \n",
       "0                                         good product  \n",
       "1    nice super picture quality.and sound also good...  \n",
       "2    excellent picture qualityultimate soundgood so...  \n",
       "3                                                 nice  \n",
       "4    n't go negative reviews . go given price . sup...  \n",
       "..                                                 ...  \n",
       "338                                           good ✌️🤩  \n",
       "339  watching ott content best tv compared chinese ...  \n",
       "340                                                wow  \n",
       "341  got ips panel 50 inch everyone reviews saying ...  \n",
       "342                                               good  \n",
       "\n",
       "[343 rows x 6 columns]"
      ]
     },
     "execution_count": 122,
     "metadata": {},
     "output_type": "execute_result"
    }
   ],
   "source": [
    "txt"
   ]
  },
  {
   "cell_type": "code",
   "execution_count": 124,
   "metadata": {},
   "outputs": [],
   "source": [
    "from nltk.sentiment.vader import SentimentIntensityAnalyzer"
   ]
  },
  {
   "cell_type": "code",
   "execution_count": 125,
   "metadata": {},
   "outputs": [
    {
     "name": "stderr",
     "output_type": "stream",
     "text": [
      "[nltk_data] Downloading package vader_lexicon to\n",
      "[nltk_data]     C:\\Users\\harip\\AppData\\Roaming\\nltk_data...\n"
     ]
    }
   ],
   "source": [
    "nltk.download('vader_lexicon')\n",
    "sentiments = SentimentIntensityAnalyzer()"
   ]
  },
  {
   "cell_type": "code",
   "execution_count": 126,
   "metadata": {},
   "outputs": [
    {
     "name": "stderr",
     "output_type": "stream",
     "text": [
      "C:\\Users\\harip\\AppData\\Local\\Temp\\ipykernel_14232\\49019260.py:2: SettingWithCopyWarning: \n",
      "A value is trying to be set on a copy of a slice from a DataFrame.\n",
      "Try using .loc[row_indexer,col_indexer] = value instead\n",
      "\n",
      "See the caveats in the documentation: https://pandas.pydata.org/pandas-docs/stable/user_guide/indexing.html#returning-a-view-versus-a-copy\n",
      "  txt['Positive'] = [sentiments.polarity_scores(str(i))['pos'] if isinstance(i, str) else None for i in txt['reviewDescription']]\n",
      "C:\\Users\\harip\\AppData\\Local\\Temp\\ipykernel_14232\\49019260.py:3: SettingWithCopyWarning: \n",
      "A value is trying to be set on a copy of a slice from a DataFrame.\n",
      "Try using .loc[row_indexer,col_indexer] = value instead\n",
      "\n",
      "See the caveats in the documentation: https://pandas.pydata.org/pandas-docs/stable/user_guide/indexing.html#returning-a-view-versus-a-copy\n",
      "  txt['Negative'] = [sentiments.polarity_scores(str(i))['neg'] if isinstance(i, str) else None for i in txt['reviewDescription']]\n",
      "C:\\Users\\harip\\AppData\\Local\\Temp\\ipykernel_14232\\49019260.py:4: SettingWithCopyWarning: \n",
      "A value is trying to be set on a copy of a slice from a DataFrame.\n",
      "Try using .loc[row_indexer,col_indexer] = value instead\n",
      "\n",
      "See the caveats in the documentation: https://pandas.pydata.org/pandas-docs/stable/user_guide/indexing.html#returning-a-view-versus-a-copy\n",
      "  txt['Neutral'] = [sentiments.polarity_scores(str(i))['neu'] if isinstance(i, str) else None for i in txt['reviewDescription']]\n"
     ]
    }
   ],
   "source": [
    "# Apply sentiment analysis, handling NaN values\n",
    "txt['Positive'] = [sentiments.polarity_scores(str(i))['pos'] if isinstance(i, str) else None for i in txt['reviewDescription']]\n",
    "txt['Negative'] = [sentiments.polarity_scores(str(i))['neg'] if isinstance(i, str) else None for i in txt['reviewDescription']]\n",
    "txt['Neutral'] = [sentiments.polarity_scores(str(i))['neu'] if isinstance(i, str) else None for i in txt['reviewDescription']]"
   ]
  },
  {
   "cell_type": "code",
   "execution_count": 128,
   "metadata": {},
   "outputs": [
    {
     "name": "stderr",
     "output_type": "stream",
     "text": [
      "C:\\Users\\harip\\AppData\\Local\\Temp\\ipykernel_14232\\4284557921.py:1: SettingWithCopyWarning: \n",
      "A value is trying to be set on a copy of a slice from a DataFrame.\n",
      "Try using .loc[row_indexer,col_indexer] = value instead\n",
      "\n",
      "See the caveats in the documentation: https://pandas.pydata.org/pandas-docs/stable/user_guide/indexing.html#returning-a-view-versus-a-copy\n",
      "  txt['Review_Sentiment'] = txt[['Positive', 'Negative','Neutral']].apply(lambda x: sentiment_scores(x['Positive'], x['Negative'], x['Neutral']), axis = 1)\n"
     ]
    },
    {
     "data": {
      "text/html": [
       "<div>\n",
       "<style scoped>\n",
       "    .dataframe tbody tr th:only-of-type {\n",
       "        vertical-align: middle;\n",
       "    }\n",
       "\n",
       "    .dataframe tbody tr th {\n",
       "        vertical-align: top;\n",
       "    }\n",
       "\n",
       "    .dataframe thead th {\n",
       "        text-align: right;\n",
       "    }\n",
       "</style>\n",
       "<table border=\"1\" class=\"dataframe\">\n",
       "  <thead>\n",
       "    <tr style=\"text-align: right;\">\n",
       "      <th></th>\n",
       "      <th>reviewDescription</th>\n",
       "      <th>Review_Sentiment</th>\n",
       "    </tr>\n",
       "  </thead>\n",
       "  <tbody>\n",
       "    <tr>\n",
       "      <th>0</th>\n",
       "      <td>Very good product</td>\n",
       "      <td>Positive Review</td>\n",
       "    </tr>\n",
       "    <tr>\n",
       "      <th>1</th>\n",
       "      <td>Nice and super picture quality.and sound also ...</td>\n",
       "      <td>Neutral Review</td>\n",
       "    </tr>\n",
       "    <tr>\n",
       "      <th>2</th>\n",
       "      <td>This is excellent picture qualityUltimate soun...</td>\n",
       "      <td>Neutral Review</td>\n",
       "    </tr>\n",
       "    <tr>\n",
       "      <th>3</th>\n",
       "      <td>Nice</td>\n",
       "      <td>Positive Review</td>\n",
       "    </tr>\n",
       "    <tr>\n",
       "      <th>4</th>\n",
       "      <td>Don't go with the negative reviews. Just go fo...</td>\n",
       "      <td>Neutral Review</td>\n",
       "    </tr>\n",
       "  </tbody>\n",
       "</table>\n",
       "</div>"
      ],
      "text/plain": [
       "                                   reviewDescription Review_Sentiment\n",
       "0                                  Very good product  Positive Review\n",
       "1  Nice and super picture quality.and sound also ...   Neutral Review\n",
       "2  This is excellent picture qualityUltimate soun...   Neutral Review\n",
       "3                                               Nice  Positive Review\n",
       "4  Don't go with the negative reviews. Just go fo...   Neutral Review"
      ]
     },
     "execution_count": 128,
     "metadata": {},
     "output_type": "execute_result"
    }
   ],
   "source": [
    "txt['Review_Sentiment'] = txt[['Positive', 'Negative','Neutral']].apply(lambda x: sentiment_scores(x['Positive'], x['Negative'], x['Neutral']), axis = 1)\n",
    "txt[['reviewDescription', 'Review_Sentiment']].head()"
   ]
  }
 ],
 "metadata": {
  "kernelspec": {
   "display_name": "Python 3",
   "language": "python",
   "name": "python3"
  },
  "language_info": {
   "codemirror_mode": {
    "name": "ipython",
    "version": 3
   },
   "file_extension": ".py",
   "mimetype": "text/x-python",
   "name": "python",
   "nbconvert_exporter": "python",
   "pygments_lexer": "ipython3",
   "version": "3.11.8"
  }
 },
 "nbformat": 4,
 "nbformat_minor": 2
}
